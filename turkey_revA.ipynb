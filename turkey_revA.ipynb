{
 "cells": [
  {
   "cell_type": "markdown",
   "metadata": {},
   "source": [
    "# Austrian energy system Tutorial Part 1: Building an Energy Model\n",
    "\n",
    "For information on how to install *MESSAGEix*, please refer to [Installation page](https://docs.messageix.org/en/stable/#getting-started), and for getting the *MESSAGEix* tutorials, please follow the steps mentioned in [Tutorials](https://docs.messageix.org/en/stable/tutorials.html).\n",
    "\n",
    "Please refer to the [user guidelines](https://github.com/iiasa/message_ix/blob/master/NOTICE.rst)\n",
    "for additional information on using *MESSAGEix*, including the recommended citation and how to name new models.\n",
    "\n",
    "**Pre-requisites**\n",
    "- You have the *MESSAGEix* framework installed and working\n",
    "\n",
    "**Structure of these tutorials.** After having run this baseline tutorial, you are able to start with any of the other tutorials, but we recommend to follow the order below for going through the information step-wise:\n",
    "\n",
    "1. Prepare the base model version (Python: ``austria.ipynb``, also available in R: ``austria_reticulate.ipynb``)\n",
    "2. Plot the results of the baseline runs (Python: ``austria_load_scenario.ipynb``, also available in R: ``austria_load_scenario_R.ipynb``)\n",
    "3. Run a single policy scenario (``austria_single_policy.ipynb``)\n",
    "4. Run multiple policy scenarios. This tutorial has two notebooks: an introduction with some exercises and completed code for the exercises (exercises: ``austria_multiple_policies.ipynb``, answers: ``austria_multiple_policies-answers.ipynb``)\n",
    "\n",
    "**Introduction**\n",
    "\n",
    "In this notebook, we will build a model of the Austrian energy system from scratch. The process will involve defining our model's time horizon and spatial extent, and then populating the model with data associated with model parameters. Once we have a baseline model, we will then move on to investigating policy scenarios.\n",
    "\n",
    "We will be populating different kinds of parameters including:\n",
    "\n",
    "### Economic Parameters\n",
    "\n",
    "- `interestrate`\n",
    "- `demand`\n",
    "\n",
    "### Technology Parameters\n",
    "\n",
    "#### Engineering Parameters\n",
    "\n",
    "- `input`\n",
    "- `output`\n",
    "- `technical_lifetime`\n",
    "- `capacity_factor`\n",
    "\n",
    "\n",
    "#### Technoeconomic Parameters\n",
    "\n",
    "- `inv_cost`\n",
    "- `fix_cost`\n",
    "- `var_cost`\n",
    "\n",
    "### Dynamic Behavior Parameters\n",
    "\n",
    "- `bound_activity_up`\n",
    "- `bound_activity_lo`\n",
    "- `bound_new_capacity_up`\n",
    "- `initial_activity_up`\n",
    "- `growth_activity_up`\n",
    "\n",
    "### Emissions\n",
    "\n",
    "- `emission_factor`\n",
    "\n",
    "A full list of parameters can be found in the [MESSAGEix documentation](http://messageix.iiasa.ac.at/model/MESSAGE/parameter_def.html). (If you have cloned the MESSAGEix [Github repository](https://github.com/iiasa/message_ix), the documentation can also be built offline; see `doc/README.md`.) \n",
    "\n",
    "## The Final Product\n",
    "\n",
    "At the completion of this exercise, we will have developed an energy model that is comprised of the below Reference Energy System (RES):\n",
    "\n",
    "![title](austria.png)\n",
    "\n"
   ]
  },
  {
   "cell_type": "markdown",
   "metadata": {},
   "source": [
    "## Setup"
   ]
  },
  {
   "cell_type": "code",
   "execution_count": 1,
   "metadata": {},
   "outputs": [],
   "source": [
    "# load required packages \n",
    "import itertools\n",
    "import pandas as pd\n",
    "\n",
    "import matplotlib.pyplot as plt\n",
    "%matplotlib inline\n",
    "plt.style.use('ggplot')\n",
    "\n",
    "import ixmp as ix\n",
    "import message_ix\n",
    "\n",
    "from message_ix.util import make_df"
   ]
  },
  {
   "cell_type": "code",
   "execution_count": 2,
   "metadata": {},
   "outputs": [
    {
     "name": "stdout",
     "output_type": "stream",
     "text": [
      "2025-04-06 12:09:01,345  INFO at.ac.iiasa.ixmp.Platform:165 - Welcome to the IX modeling platform!\n",
      "2025-04-06 12:09:01,350  INFO at.ac.iiasa.ixmp.Platform:166 -  connected to database 'jdbc:hsqldb:file:/home/ggungor/.local/share/ixmp/localdb/default' (user: ixmp)...\n"
     ]
    }
   ],
   "source": [
    "# launch the IX modeling platform using the local default database\n",
    "mp = ix.Platform(name=\"default\", jvmargs=[\"-Duser.language=en\"])"
   ]
  },
  {
   "cell_type": "code",
   "execution_count": 3,
   "metadata": {},
   "outputs": [],
   "source": [
    "model = \"Turkey energy model\"\n",
    "scen = \"baseline\"\n",
    "annot = \"developing a stylized energy system model for illustration and testing\" \n",
    "\n",
    "# scenario = message_ix.Scenario(mp, model, scen, version='new', annotation=annot)\n",
    "scenario = message_ix.Scenario(mp, model, scen, annotation=annot)"
   ]
  },
  {
   "cell_type": "markdown",
   "metadata": {},
   "source": [
    "## Time and Spatial Detail\n",
    "\n",
    "The model includes the time periods 2020, 2025, 2030, 2035, 2040, 2045 and 2050."
   ]
  },
  {
   "cell_type": "code",
   "execution_count": 10,
   "metadata": {},
   "outputs": [
    {
     "ename": "ValueError",
     "evalue": "Scenario has year=[2020, 2025, 2030, 2035, 2040, 2045, 2050] and related values",
     "output_type": "error",
     "traceback": [
      "\u001b[0;31m---------------------------------------------------------------------------\u001b[0m",
      "\u001b[0;31mValueError\u001b[0m                                Traceback (most recent call last)",
      "Cell \u001b[0;32mIn[10], line 2\u001b[0m\n\u001b[1;32m      1\u001b[0m horizon \u001b[38;5;241m=\u001b[39m \u001b[38;5;28mrange\u001b[39m(\u001b[38;5;241m2020\u001b[39m, \u001b[38;5;241m2051\u001b[39m, \u001b[38;5;241m5\u001b[39m)\n\u001b[0;32m----> 2\u001b[0m \u001b[43mscenario\u001b[49m\u001b[38;5;241;43m.\u001b[39;49m\u001b[43madd_horizon\u001b[49m\u001b[43m(\u001b[49m\u001b[43myear\u001b[49m\u001b[38;5;241;43m=\u001b[39;49m\u001b[43mhorizon\u001b[49m\u001b[43m)\u001b[49m\n",
      "File \u001b[0;32m~/miniconda3/envs/message_env/lib/python3.8/site-packages/message_ix/core.py:413\u001b[0m, in \u001b[0;36mScenario.add_horizon\u001b[0;34m(self, year, firstmodelyear, data)\u001b[0m\n\u001b[1;32m    411\u001b[0m existing \u001b[38;5;241m=\u001b[39m \u001b[38;5;28mself\u001b[39m\u001b[38;5;241m.\u001b[39mset(\u001b[38;5;124m\"\u001b[39m\u001b[38;5;124myear\u001b[39m\u001b[38;5;124m\"\u001b[39m)\u001b[38;5;241m.\u001b[39mtolist()\n\u001b[1;32m    412\u001b[0m \u001b[38;5;28;01mif\u001b[39;00m \u001b[38;5;28mlen\u001b[39m(existing):\n\u001b[0;32m--> 413\u001b[0m     \u001b[38;5;28;01mraise\u001b[39;00m \u001b[38;5;167;01mValueError\u001b[39;00m(\u001b[38;5;124mf\u001b[39m\u001b[38;5;124m\"\u001b[39m\u001b[38;5;124mScenario has year=\u001b[39m\u001b[38;5;132;01m{\u001b[39;00mexisting\u001b[38;5;132;01m}\u001b[39;00m\u001b[38;5;124m and related values\u001b[39m\u001b[38;5;124m\"\u001b[39m)\n\u001b[1;32m    415\u001b[0m \u001b[38;5;66;03m# Add the year set elements and first model year\u001b[39;00m\n\u001b[1;32m    416\u001b[0m year \u001b[38;5;241m=\u001b[39m \u001b[38;5;28msorted\u001b[39m(year)\n",
      "\u001b[0;31mValueError\u001b[0m: Scenario has year=[2020, 2025, 2030, 2035, 2040, 2045, 2050] and related values"
     ]
    }
   ],
   "source": [
    "horizon = range(2020, 2051, 5)\n",
    "scenario.add_horizon(year=horizon)"
   ]
  },
  {
   "cell_type": "code",
   "execution_count": 11,
   "metadata": {},
   "outputs": [
    {
     "data": {
      "text/html": [
       "<div>\n",
       "<style scoped>\n",
       "    .dataframe tbody tr th:only-of-type {\n",
       "        vertical-align: middle;\n",
       "    }\n",
       "\n",
       "    .dataframe tbody tr th {\n",
       "        vertical-align: top;\n",
       "    }\n",
       "\n",
       "    .dataframe thead th {\n",
       "        text-align: right;\n",
       "    }\n",
       "</style>\n",
       "<table border=\"1\" class=\"dataframe\">\n",
       "  <thead>\n",
       "    <tr style=\"text-align: right;\">\n",
       "      <th></th>\n",
       "      <th>year_vtg</th>\n",
       "      <th>year_act</th>\n",
       "    </tr>\n",
       "  </thead>\n",
       "  <tbody>\n",
       "    <tr>\n",
       "      <th>0</th>\n",
       "      <td>2020</td>\n",
       "      <td>2020</td>\n",
       "    </tr>\n",
       "    <tr>\n",
       "      <th>1</th>\n",
       "      <td>2020</td>\n",
       "      <td>2025</td>\n",
       "    </tr>\n",
       "    <tr>\n",
       "      <th>2</th>\n",
       "      <td>2020</td>\n",
       "      <td>2030</td>\n",
       "    </tr>\n",
       "    <tr>\n",
       "      <th>3</th>\n",
       "      <td>2020</td>\n",
       "      <td>2035</td>\n",
       "    </tr>\n",
       "    <tr>\n",
       "      <th>4</th>\n",
       "      <td>2020</td>\n",
       "      <td>2040</td>\n",
       "    </tr>\n",
       "    <tr>\n",
       "      <th>5</th>\n",
       "      <td>2020</td>\n",
       "      <td>2045</td>\n",
       "    </tr>\n",
       "    <tr>\n",
       "      <th>6</th>\n",
       "      <td>2020</td>\n",
       "      <td>2050</td>\n",
       "    </tr>\n",
       "    <tr>\n",
       "      <th>7</th>\n",
       "      <td>2025</td>\n",
       "      <td>2025</td>\n",
       "    </tr>\n",
       "    <tr>\n",
       "      <th>8</th>\n",
       "      <td>2025</td>\n",
       "      <td>2030</td>\n",
       "    </tr>\n",
       "    <tr>\n",
       "      <th>9</th>\n",
       "      <td>2025</td>\n",
       "      <td>2035</td>\n",
       "    </tr>\n",
       "    <tr>\n",
       "      <th>10</th>\n",
       "      <td>2025</td>\n",
       "      <td>2040</td>\n",
       "    </tr>\n",
       "    <tr>\n",
       "      <th>11</th>\n",
       "      <td>2025</td>\n",
       "      <td>2045</td>\n",
       "    </tr>\n",
       "    <tr>\n",
       "      <th>12</th>\n",
       "      <td>2025</td>\n",
       "      <td>2050</td>\n",
       "    </tr>\n",
       "    <tr>\n",
       "      <th>13</th>\n",
       "      <td>2030</td>\n",
       "      <td>2030</td>\n",
       "    </tr>\n",
       "    <tr>\n",
       "      <th>14</th>\n",
       "      <td>2030</td>\n",
       "      <td>2035</td>\n",
       "    </tr>\n",
       "    <tr>\n",
       "      <th>15</th>\n",
       "      <td>2030</td>\n",
       "      <td>2040</td>\n",
       "    </tr>\n",
       "    <tr>\n",
       "      <th>16</th>\n",
       "      <td>2030</td>\n",
       "      <td>2045</td>\n",
       "    </tr>\n",
       "    <tr>\n",
       "      <th>17</th>\n",
       "      <td>2030</td>\n",
       "      <td>2050</td>\n",
       "    </tr>\n",
       "    <tr>\n",
       "      <th>18</th>\n",
       "      <td>2035</td>\n",
       "      <td>2035</td>\n",
       "    </tr>\n",
       "    <tr>\n",
       "      <th>19</th>\n",
       "      <td>2035</td>\n",
       "      <td>2040</td>\n",
       "    </tr>\n",
       "    <tr>\n",
       "      <th>20</th>\n",
       "      <td>2035</td>\n",
       "      <td>2045</td>\n",
       "    </tr>\n",
       "    <tr>\n",
       "      <th>21</th>\n",
       "      <td>2035</td>\n",
       "      <td>2050</td>\n",
       "    </tr>\n",
       "    <tr>\n",
       "      <th>22</th>\n",
       "      <td>2040</td>\n",
       "      <td>2040</td>\n",
       "    </tr>\n",
       "    <tr>\n",
       "      <th>23</th>\n",
       "      <td>2040</td>\n",
       "      <td>2045</td>\n",
       "    </tr>\n",
       "    <tr>\n",
       "      <th>24</th>\n",
       "      <td>2040</td>\n",
       "      <td>2050</td>\n",
       "    </tr>\n",
       "    <tr>\n",
       "      <th>25</th>\n",
       "      <td>2045</td>\n",
       "      <td>2045</td>\n",
       "    </tr>\n",
       "    <tr>\n",
       "      <th>26</th>\n",
       "      <td>2045</td>\n",
       "      <td>2050</td>\n",
       "    </tr>\n",
       "    <tr>\n",
       "      <th>27</th>\n",
       "      <td>2050</td>\n",
       "      <td>2050</td>\n",
       "    </tr>\n",
       "  </tbody>\n",
       "</table>\n",
       "</div>"
      ],
      "text/plain": [
       "    year_vtg  year_act\n",
       "0       2020      2020\n",
       "1       2020      2025\n",
       "2       2020      2030\n",
       "3       2020      2035\n",
       "4       2020      2040\n",
       "5       2020      2045\n",
       "6       2020      2050\n",
       "7       2025      2025\n",
       "8       2025      2030\n",
       "9       2025      2035\n",
       "10      2025      2040\n",
       "11      2025      2045\n",
       "12      2025      2050\n",
       "13      2030      2030\n",
       "14      2030      2035\n",
       "15      2030      2040\n",
       "16      2030      2045\n",
       "17      2030      2050\n",
       "18      2035      2035\n",
       "19      2035      2040\n",
       "20      2035      2045\n",
       "21      2035      2050\n",
       "22      2040      2040\n",
       "23      2040      2045\n",
       "24      2040      2050\n",
       "25      2045      2045\n",
       "26      2045      2050\n",
       "27      2050      2050"
      ]
     },
     "execution_count": 11,
     "metadata": {},
     "output_type": "execute_result"
    }
   ],
   "source": [
    "scenario.vintage_and_active_years()"
   ]
  },
  {
   "cell_type": "code",
   "execution_count": 12,
   "metadata": {},
   "outputs": [],
   "source": [
    "country = 'Turkey'\n",
    "scenario.add_spatial_sets({'country': country})"
   ]
  },
  {
   "cell_type": "code",
   "execution_count": 13,
   "metadata": {},
   "outputs": [
    {
     "data": {
      "text/plain": [
       "0     World\n",
       "1    Turkey\n",
       "dtype: object"
      ]
     },
     "execution_count": 13,
     "metadata": {},
     "output_type": "execute_result"
    }
   ],
   "source": [
    "scenario.set(\"node\")"
   ]
  },
  {
   "cell_type": "markdown",
   "metadata": {},
   "source": [
    "## Model Structure"
   ]
  },
  {
   "cell_type": "code",
   "execution_count": 14,
   "metadata": {},
   "outputs": [],
   "source": [
    "scenario.add_set(\"commodity\", [\"electricity\", \"light_and_appliance\", \"hvac\"])\n",
    "scenario.add_set(\"level\", [\"secondary\", \"final\", \"useful\"])\n",
    "scenario.add_set(\"mode\", \"standard\")"
   ]
  },
  {
   "cell_type": "code",
   "execution_count": 15,
   "metadata": {},
   "outputs": [
    {
     "data": {
      "text/plain": [
       "0            electricity\n",
       "1    light_and_appliance\n",
       "2                   hvac\n",
       "dtype: object"
      ]
     },
     "execution_count": 15,
     "metadata": {},
     "output_type": "execute_result"
    }
   ],
   "source": [
    "scenario.set(\"commodity\")"
   ]
  },
  {
   "cell_type": "markdown",
   "metadata": {},
   "source": [
    "## Economic Parameters"
   ]
  },
  {
   "cell_type": "markdown",
   "metadata": {},
   "source": [
    "Definition of the socio-economic discount rate:"
   ]
  },
  {
   "cell_type": "code",
   "execution_count": 16,
   "metadata": {},
   "outputs": [],
   "source": [
    "scenario.add_par(\"interestrate\", horizon, value=0.10, unit='-')"
   ]
  },
  {
   "cell_type": "markdown",
   "metadata": {},
   "source": [
    "The fundamental premise of the model is to satisfy demand for energy (services). To first order, demands for services (e.g. electricity) track with economic productivity (GDP). Therefore, as a simple example, we define both a GDP profile and a correlation parameter between GDP growth and demand, called beta. Beta will then be used to obtain a simplistic demand profile."
   ]
  },
  {
   "cell_type": "markdown",
   "metadata": {},
   "source": [
    "The socio-economic forecasts are taken from the [IIASA SSP](https://data.ece.iiasa.ac.at/ssp/#/downloads) database."
   ]
  },
  {
   "cell_type": "code",
   "execution_count": 17,
   "metadata": {},
   "outputs": [
    {
     "data": {
      "application/javascript": [
       "if (typeof IPython !== 'undefined') { IPython.OutputArea.prototype._should_scroll = function(lines){ return false; }}"
      ],
      "text/plain": [
       "<IPython.core.display.Javascript object>"
      ]
     },
     "metadata": {},
     "output_type": "display_data"
    },
    {
     "name": "stderr",
     "output_type": "stream",
     "text": [
      "pyam - INFO: Running in a notebook, setting up a basic logging at level INFO\n",
      "pyam.iiasa - INFO: You are connected to the IXSE_SSP scenario explorer hosted by IIASA. If you use this data in any published format, please cite the data as provided in the explorer guidelines: https://data.ece.iiasa.ac.at/ssp/#/about\n",
      "pyam.iiasa - INFO: You are connected as an anonymous user\n"
     ]
    }
   ],
   "source": [
    "import pyam\n",
    "\n",
    "# by default, you receive the latest SSP projections (2024 release)\n",
    "df = pyam.read_iiasa(\"ssp\", region=\"Turkey\", variable=\"GDP|PPP\")"
   ]
  },
  {
   "cell_type": "code",
   "execution_count": 18,
   "metadata": {},
   "outputs": [
    {
     "data": {
      "text/plain": [
       "['GDP|PPP']"
      ]
     },
     "execution_count": 18,
     "metadata": {},
     "output_type": "execute_result"
    }
   ],
   "source": [
    "df.variable"
   ]
  },
  {
   "cell_type": "code",
   "execution_count": 19,
   "metadata": {},
   "outputs": [
    {
     "name": "stderr",
     "output_type": "stream",
     "text": [
      "/home/ggungor/miniconda3/envs/message_env/lib/python3.8/site-packages/pyam/plotting.py:1073: FutureWarning: iteritems is deprecated and will be removed in a future version. Use .items instead.\n",
      "  for col, data in df.iteritems():\n"
     ]
    },
    {
     "data": {
      "text/plain": [
       "<Axes: title={'center': 'region: Turkey - variable: GDP|PPP'}, xlabel='Year', ylabel='billion USD_2017/yr'>"
      ]
     },
     "execution_count": 19,
     "metadata": {},
     "output_type": "execute_result"
    },
    {
     "data": {
      "image/png": "[encoded data removed]",
      "text/plain": [
       "<Figure size 640x480 with 1 Axes>"
      ]
     },
     "metadata": {},
     "output_type": "display_data"
    }
   ],
   "source": [
    "df.plot()"
   ]
  },
  {
   "cell_type": "code",
   "execution_count": 20,
   "metadata": {},
   "outputs": [
    {
     "data": {
      "text/html": [
       "<div>\n",
       "<style scoped>\n",
       "    .dataframe tbody tr th:only-of-type {\n",
       "        vertical-align: middle;\n",
       "    }\n",
       "\n",
       "    .dataframe tbody tr th {\n",
       "        vertical-align: top;\n",
       "    }\n",
       "\n",
       "    .dataframe thead th {\n",
       "        text-align: right;\n",
       "    }\n",
       "</style>\n",
       "<table border=\"1\" class=\"dataframe\">\n",
       "  <thead>\n",
       "    <tr style=\"text-align: right;\">\n",
       "      <th></th>\n",
       "      <th>model</th>\n",
       "      <th>scenario</th>\n",
       "      <th>region</th>\n",
       "      <th>variable</th>\n",
       "      <th>unit</th>\n",
       "      <th>year</th>\n",
       "      <th>value</th>\n",
       "    </tr>\n",
       "  </thead>\n",
       "  <tbody>\n",
       "    <tr>\n",
       "      <th>0</th>\n",
       "      <td>IIASA GDP 2023</td>\n",
       "      <td>SSP5</td>\n",
       "      <td>Turkey</td>\n",
       "      <td>GDP|PPP</td>\n",
       "      <td>billion USD_2017/yr</td>\n",
       "      <td>2025</td>\n",
       "      <td>3109.770706</td>\n",
       "    </tr>\n",
       "    <tr>\n",
       "      <th>1</th>\n",
       "      <td>IIASA GDP 2023</td>\n",
       "      <td>SSP5</td>\n",
       "      <td>Turkey</td>\n",
       "      <td>GDP|PPP</td>\n",
       "      <td>billion USD_2017/yr</td>\n",
       "      <td>2030</td>\n",
       "      <td>3579.607376</td>\n",
       "    </tr>\n",
       "    <tr>\n",
       "      <th>2</th>\n",
       "      <td>IIASA GDP 2023</td>\n",
       "      <td>SSP5</td>\n",
       "      <td>Turkey</td>\n",
       "      <td>GDP|PPP</td>\n",
       "      <td>billion USD_2017/yr</td>\n",
       "      <td>2035</td>\n",
       "      <td>4130.312535</td>\n",
       "    </tr>\n",
       "    <tr>\n",
       "      <th>3</th>\n",
       "      <td>IIASA GDP 2023</td>\n",
       "      <td>SSP5</td>\n",
       "      <td>Turkey</td>\n",
       "      <td>GDP|PPP</td>\n",
       "      <td>billion USD_2017/yr</td>\n",
       "      <td>2040</td>\n",
       "      <td>4647.478636</td>\n",
       "    </tr>\n",
       "    <tr>\n",
       "      <th>4</th>\n",
       "      <td>IIASA GDP 2023</td>\n",
       "      <td>SSP5</td>\n",
       "      <td>Turkey</td>\n",
       "      <td>GDP|PPP</td>\n",
       "      <td>billion USD_2017/yr</td>\n",
       "      <td>2045</td>\n",
       "      <td>5173.939204</td>\n",
       "    </tr>\n",
       "    <tr>\n",
       "      <th>5</th>\n",
       "      <td>IIASA GDP 2023</td>\n",
       "      <td>SSP5</td>\n",
       "      <td>Turkey</td>\n",
       "      <td>GDP|PPP</td>\n",
       "      <td>billion USD_2017/yr</td>\n",
       "      <td>2050</td>\n",
       "      <td>5665.413737</td>\n",
       "    </tr>\n",
       "  </tbody>\n",
       "</table>\n",
       "</div>"
      ],
      "text/plain": [
       "            model scenario  region variable                 unit  year  \\\n",
       "0  IIASA GDP 2023     SSP5  Turkey  GDP|PPP  billion USD_2017/yr  2025   \n",
       "1  IIASA GDP 2023     SSP5  Turkey  GDP|PPP  billion USD_2017/yr  2030   \n",
       "2  IIASA GDP 2023     SSP5  Turkey  GDP|PPP  billion USD_2017/yr  2035   \n",
       "3  IIASA GDP 2023     SSP5  Turkey  GDP|PPP  billion USD_2017/yr  2040   \n",
       "4  IIASA GDP 2023     SSP5  Turkey  GDP|PPP  billion USD_2017/yr  2045   \n",
       "5  IIASA GDP 2023     SSP5  Turkey  GDP|PPP  billion USD_2017/yr  2050   \n",
       "\n",
       "         value  \n",
       "0  3109.770706  \n",
       "1  3579.607376  \n",
       "2  4130.312535  \n",
       "3  4647.478636  \n",
       "4  5173.939204  \n",
       "5  5665.413737  "
      ]
     },
     "execution_count": 20,
     "metadata": {},
     "output_type": "execute_result"
    }
   ],
   "source": [
    "df.filter(scenario=\"SSP5\").head(6)"
   ]
  },
  {
   "cell_type": "markdown",
   "metadata": {},
   "source": [
    "The base year GDP|PPP is taken from [World Bank](https://data.worldbank.org/indicator/NY.GDP.MKTP.PP.CD?locations=TR) database."
   ]
  },
  {
   "cell_type": "code",
   "execution_count": 21,
   "metadata": {},
   "outputs": [],
   "source": [
    "gdp = pd.Series([2390, 3109.770706, 3579.607376, 4130.312535, 4647.478636, 5173.939204, 5665.413737], index=horizon)\n",
    "beta = 0.7\n",
    "demand = 1.116 * gdp ** beta"
   ]
  },
  {
   "cell_type": "code",
   "execution_count": 22,
   "metadata": {},
   "outputs": [
    {
     "data": {
      "text/plain": [
       "2020    258.548918\n",
       "2025    310.866592\n",
       "2030    343.043323\n",
       "2035    379.185949\n",
       "2040    411.828479\n",
       "dtype: float64"
      ]
     },
     "execution_count": 22,
     "metadata": {},
     "output_type": "execute_result"
    }
   ],
   "source": [
    "demand.head()"
   ]
  },
  {
   "cell_type": "code",
   "execution_count": 23,
   "metadata": {},
   "outputs": [
    {
     "data": {
      "text/plain": [
       "<Axes: >"
      ]
     },
     "execution_count": 23,
     "metadata": {},
     "output_type": "execute_result"
    },
    {
     "data": {
      "image/png": "[encoded data removed]",
      "text/plain": [
       "<Figure size 640x480 with 1 Axes>"
      ]
     },
     "metadata": {},
     "output_type": "display_data"
    }
   ],
   "source": [
    "demand.plot()"
   ]
  },
  {
   "cell_type": "markdown",
   "metadata": {},
   "source": [
    "## Technologies"
   ]
  },
  {
   "cell_type": "code",
   "execution_count": 24,
   "metadata": {},
   "outputs": [],
   "source": [
    "plants = [\n",
    "    \"coal_ppl\", \n",
    "    \"gas_ppl\", \n",
    "    \"oil_ppl\", \n",
    "    \"bio_ppl\", \n",
    "    \"hydro_ppl\",\n",
    "    \"wind_ppl\", \n",
    "    \"geothermal\",\n",
    "    \"solar_pv_ppl\", # actually primary -> final\n",
    "]\n",
    "secondary_energy_techs = plants + ['import']\n",
    "\n",
    "final_energy_techs = ['electricity_grid']\n",
    "\n",
    "# lights actually includes lights and household appliances\n",
    "light_and_appliance = [\n",
    "    \"low_efficiency\", \n",
    "    \"high_efficiency\", \n",
    "]\n",
    "useful_energy_techs = light_and_appliance + ['hvac']"
   ]
  },
  {
   "cell_type": "code",
   "execution_count": 25,
   "metadata": {},
   "outputs": [],
   "source": [
    "technologies = secondary_energy_techs + final_energy_techs + useful_energy_techs\n",
    "scenario.add_set(\"technology\", technologies)"
   ]
  },
  {
   "cell_type": "code",
   "execution_count": 26,
   "metadata": {},
   "outputs": [
    {
     "data": {
      "text/plain": [
       "0             coal_ppl\n",
       "1              gas_ppl\n",
       "2              oil_ppl\n",
       "3              bio_ppl\n",
       "4            hydro_ppl\n",
       "5             wind_ppl\n",
       "6           geothermal\n",
       "7         solar_pv_ppl\n",
       "8               import\n",
       "9     electricity_grid\n",
       "10      low_efficiency\n",
       "11     high_efficiency\n",
       "12                hvac\n",
       "dtype: object"
      ]
     },
     "execution_count": 26,
     "metadata": {},
     "output_type": "execute_result"
    }
   ],
   "source": [
    "scenario.set(\"technology\")"
   ]
  },
  {
   "attachments": {
    "cd8bc5f6-9901-4de7-ba2e-f3350dbd0ddf.png": {
     "image/png": "[encoded data removed]"
    }
   },
   "cell_type": "markdown",
   "metadata": {},
   "source": [
    "# Electricity consumption by end-uses, 2022\n",
    "\n",
    "![image.png](attachment:cd8bc5f6-9901-4de7-ba2e-f3350dbd0ddf.png)\n",
    "[TURKSTAT Corporate](https://data.tuik.gov.tr/Bulten/Index?p=Final-Energy-Consumption-Statistics-in-Households-2022-53805&dil=2)"
   ]
  },
  {
   "cell_type": "code",
   "execution_count": 27,
   "metadata": {},
   "outputs": [],
   "source": [
    "demand_per_year = (1-0.824) / 8.76\n",
    "elec_demand = pd.DataFrame({\n",
    "        'node': country,\n",
    "        'commodity': 'hvac',\n",
    "        'level': 'useful',\n",
    "        'year': horizon,\n",
    "        'time': 'year',\n",
    "        'value': demand_per_year * demand,\n",
    "        'unit': 'GWa',\n",
    "    })\n",
    "scenario.add_par(\"demand\", elec_demand)\n",
    "\n",
    "demand_per_year = 0.824 / 8.76\n",
    "light_demand = pd.DataFrame({\n",
    "        'node': country,\n",
    "        'commodity': 'light_and_appliance',\n",
    "        'level': 'useful',\n",
    "        'year': horizon,\n",
    "        'time': 'year',\n",
    "        'value': demand_per_year * demand,\n",
    "        'unit': 'GWa',\n",
    "    })\n",
    "scenario.add_par(\"demand\", light_demand)"
   ]
  },
  {
   "cell_type": "code",
   "execution_count": 28,
   "metadata": {},
   "outputs": [
    {
     "data": {
      "text/html": [
       "<div>\n",
       "<style scoped>\n",
       "    .dataframe tbody tr th:only-of-type {\n",
       "        vertical-align: middle;\n",
       "    }\n",
       "\n",
       "    .dataframe tbody tr th {\n",
       "        vertical-align: top;\n",
       "    }\n",
       "\n",
       "    .dataframe thead th {\n",
       "        text-align: right;\n",
       "    }\n",
       "</style>\n",
       "<table border=\"1\" class=\"dataframe\">\n",
       "  <thead>\n",
       "    <tr style=\"text-align: right;\">\n",
       "      <th></th>\n",
       "      <th>node</th>\n",
       "      <th>commodity</th>\n",
       "      <th>level</th>\n",
       "      <th>year</th>\n",
       "      <th>time</th>\n",
       "      <th>value</th>\n",
       "      <th>unit</th>\n",
       "    </tr>\n",
       "  </thead>\n",
       "  <tbody>\n",
       "    <tr>\n",
       "      <th>0</th>\n",
       "      <td>Turkey</td>\n",
       "      <td>hvac</td>\n",
       "      <td>useful</td>\n",
       "      <td>2020</td>\n",
       "      <td>year</td>\n",
       "      <td>5.194590</td>\n",
       "      <td>GWa</td>\n",
       "    </tr>\n",
       "    <tr>\n",
       "      <th>1</th>\n",
       "      <td>Turkey</td>\n",
       "      <td>hvac</td>\n",
       "      <td>useful</td>\n",
       "      <td>2025</td>\n",
       "      <td>year</td>\n",
       "      <td>6.245721</td>\n",
       "      <td>GWa</td>\n",
       "    </tr>\n",
       "    <tr>\n",
       "      <th>2</th>\n",
       "      <td>Turkey</td>\n",
       "      <td>hvac</td>\n",
       "      <td>useful</td>\n",
       "      <td>2030</td>\n",
       "      <td>year</td>\n",
       "      <td>6.892195</td>\n",
       "      <td>GWa</td>\n",
       "    </tr>\n",
       "    <tr>\n",
       "      <th>3</th>\n",
       "      <td>Turkey</td>\n",
       "      <td>hvac</td>\n",
       "      <td>useful</td>\n",
       "      <td>2035</td>\n",
       "      <td>year</td>\n",
       "      <td>7.618348</td>\n",
       "      <td>GWa</td>\n",
       "    </tr>\n",
       "    <tr>\n",
       "      <th>4</th>\n",
       "      <td>Turkey</td>\n",
       "      <td>hvac</td>\n",
       "      <td>useful</td>\n",
       "      <td>2040</td>\n",
       "      <td>year</td>\n",
       "      <td>8.274179</td>\n",
       "      <td>GWa</td>\n",
       "    </tr>\n",
       "    <tr>\n",
       "      <th>5</th>\n",
       "      <td>Turkey</td>\n",
       "      <td>hvac</td>\n",
       "      <td>useful</td>\n",
       "      <td>2045</td>\n",
       "      <td>year</td>\n",
       "      <td>8.919647</td>\n",
       "      <td>GWa</td>\n",
       "    </tr>\n",
       "    <tr>\n",
       "      <th>6</th>\n",
       "      <td>Turkey</td>\n",
       "      <td>hvac</td>\n",
       "      <td>useful</td>\n",
       "      <td>2050</td>\n",
       "      <td>year</td>\n",
       "      <td>9.504623</td>\n",
       "      <td>GWa</td>\n",
       "    </tr>\n",
       "    <tr>\n",
       "      <th>7</th>\n",
       "      <td>Turkey</td>\n",
       "      <td>light_and_appliance</td>\n",
       "      <td>useful</td>\n",
       "      <td>2020</td>\n",
       "      <td>year</td>\n",
       "      <td>24.320127</td>\n",
       "      <td>GWa</td>\n",
       "    </tr>\n",
       "    <tr>\n",
       "      <th>8</th>\n",
       "      <td>Turkey</td>\n",
       "      <td>light_and_appliance</td>\n",
       "      <td>useful</td>\n",
       "      <td>2025</td>\n",
       "      <td>year</td>\n",
       "      <td>29.241332</td>\n",
       "      <td>GWa</td>\n",
       "    </tr>\n",
       "    <tr>\n",
       "      <th>9</th>\n",
       "      <td>Turkey</td>\n",
       "      <td>light_and_appliance</td>\n",
       "      <td>useful</td>\n",
       "      <td>2030</td>\n",
       "      <td>year</td>\n",
       "      <td>32.268002</td>\n",
       "      <td>GWa</td>\n",
       "    </tr>\n",
       "    <tr>\n",
       "      <th>10</th>\n",
       "      <td>Turkey</td>\n",
       "      <td>light_and_appliance</td>\n",
       "      <td>useful</td>\n",
       "      <td>2035</td>\n",
       "      <td>year</td>\n",
       "      <td>35.667719</td>\n",
       "      <td>GWa</td>\n",
       "    </tr>\n",
       "    <tr>\n",
       "      <th>11</th>\n",
       "      <td>Turkey</td>\n",
       "      <td>light_and_appliance</td>\n",
       "      <td>useful</td>\n",
       "      <td>2040</td>\n",
       "      <td>year</td>\n",
       "      <td>38.738204</td>\n",
       "      <td>GWa</td>\n",
       "    </tr>\n",
       "    <tr>\n",
       "      <th>12</th>\n",
       "      <td>Turkey</td>\n",
       "      <td>light_and_appliance</td>\n",
       "      <td>useful</td>\n",
       "      <td>2045</td>\n",
       "      <td>year</td>\n",
       "      <td>41.760167</td>\n",
       "      <td>GWa</td>\n",
       "    </tr>\n",
       "    <tr>\n",
       "      <th>13</th>\n",
       "      <td>Turkey</td>\n",
       "      <td>light_and_appliance</td>\n",
       "      <td>useful</td>\n",
       "      <td>2050</td>\n",
       "      <td>year</td>\n",
       "      <td>44.498917</td>\n",
       "      <td>GWa</td>\n",
       "    </tr>\n",
       "  </tbody>\n",
       "</table>\n",
       "</div>"
      ],
      "text/plain": [
       "      node            commodity   level  year  time      value unit\n",
       "0   Turkey                 hvac  useful  2020  year   5.194590  GWa\n",
       "1   Turkey                 hvac  useful  2025  year   6.245721  GWa\n",
       "2   Turkey                 hvac  useful  2030  year   6.892195  GWa\n",
       "3   Turkey                 hvac  useful  2035  year   7.618348  GWa\n",
       "4   Turkey                 hvac  useful  2040  year   8.274179  GWa\n",
       "5   Turkey                 hvac  useful  2045  year   8.919647  GWa\n",
       "6   Turkey                 hvac  useful  2050  year   9.504623  GWa\n",
       "7   Turkey  light_and_appliance  useful  2020  year  24.320127  GWa\n",
       "8   Turkey  light_and_appliance  useful  2025  year  29.241332  GWa\n",
       "9   Turkey  light_and_appliance  useful  2030  year  32.268002  GWa\n",
       "10  Turkey  light_and_appliance  useful  2035  year  35.667719  GWa\n",
       "11  Turkey  light_and_appliance  useful  2040  year  38.738204  GWa\n",
       "12  Turkey  light_and_appliance  useful  2045  year  41.760167  GWa\n",
       "13  Turkey  light_and_appliance  useful  2050  year  44.498917  GWa"
      ]
     },
     "execution_count": 28,
     "metadata": {},
     "output_type": "execute_result"
    }
   ],
   "source": [
    "scenario.par(\"demand\")"
   ]
  },
  {
   "cell_type": "markdown",
   "metadata": {
    "collapsed": true,
    "jupyter": {
     "outputs_hidden": true
    }
   },
   "source": [
    "### Engineering Parameters"
   ]
  },
  {
   "cell_type": "code",
   "execution_count": 29,
   "metadata": {},
   "outputs": [],
   "source": [
    "year_df = scenario.vintage_and_active_years()\n",
    "vintage_years, act_years = year_df['year_vtg'], year_df['year_act']"
   ]
  },
  {
   "cell_type": "code",
   "execution_count": 30,
   "metadata": {},
   "outputs": [],
   "source": [
    "base_input = {\n",
    "    'node_loc': country,\n",
    "    'year_vtg': vintage_years,\n",
    "    'year_act': act_years,\n",
    "    'mode': 'standard',\n",
    "    'node_origin': country,\n",
    "    'commodity': 'electricity',\n",
    "    'time': 'year',\n",
    "    'time_origin': 'year',\n",
    "}\n",
    "\n",
    "grid = pd.DataFrame(dict(\n",
    "        technology = 'electricity_grid',\n",
    "        level = 'secondary',\n",
    "        value = 1.0,\n",
    "        unit = '-',\n",
    "        **base_input\n",
    "        ))\n",
    "scenario.add_par(\"input\", grid)\n",
    "\n",
    "\n",
    "low_efficiency = pd.DataFrame(dict(\n",
    "        technology = 'low_efficiency',\n",
    "        level = 'final',\n",
    "        value = 1.0,\n",
    "        unit = '-',\n",
    "        **base_input\n",
    "        ))\n",
    "scenario.add_par(\"input\", low_efficiency)\n",
    "\n",
    "high_efficiency = pd.DataFrame(dict(\n",
    "        technology = 'high_efficiency',\n",
    "        level = 'final',\n",
    "        value = 0.3, # LED and CFL lighting equipment are more efficient than conventional light bulbs,\n",
    "                     #so they need less input electricity to produce the same quantity of 'light'\n",
    "                     #compared to conventional light bulbs (0.3 units vs 1.0, respectively) \n",
    "        unit = '-',\n",
    "        **base_input\n",
    "        ))\n",
    "scenario.add_par(\"input\", high_efficiency)\n",
    "\n",
    "hvac = pd.DataFrame(dict(\n",
    "        technology = 'hvac',\n",
    "        level = 'final',\n",
    "        value = 1.0,\n",
    "        unit = '-',\n",
    "        **base_input\n",
    "        ))\n",
    "scenario.add_par(\"input\", hvac)"
   ]
  },
  {
   "cell_type": "code",
   "execution_count": 31,
   "metadata": {},
   "outputs": [
    {
     "data": {
      "text/plain": [
       "\u001b[0;31mSignature:\u001b[0m \u001b[0mmake_df\u001b[0m\u001b[0;34m(\u001b[0m\u001b[0mname\u001b[0m\u001b[0;34m,\u001b[0m \u001b[0;34m**\u001b[0m\u001b[0mdata\u001b[0m\u001b[0;34m)\u001b[0m\u001b[0;34m\u001b[0m\u001b[0;34m\u001b[0m\u001b[0m\n",
       "\u001b[0;31mDocstring:\u001b[0m\n",
       "Return a data frame for parameter or indexed set `name` filled with `data`.\n",
       "\n",
       ":func:`make_df` always returns a data frame with the columns required by either:\n",
       "\n",
       "- :meth:`.add_par`: the dimensions of the parameter `name`, plus 'value' and 'unit'.\n",
       "- :meth:`.add_set`: the dimensions of the indexed set `name`.\n",
       "\n",
       "Columns not listed in `data` are left empty.\n",
       "\n",
       "The `data` keyword arguments can be passed in many ways; see the\n",
       ":ref:`python:tut-keywordargs` and “Function Examples” sections of the Python\n",
       "introductory tutorial, or the examples below.\n",
       "\n",
       "Examples\n",
       "--------\n",
       "\n",
       ">>> make_df(\n",
       "...    \"demand\", node=[\"foo\", \"bar\"], commodity=\"baz\", value=[1.2, 3.4]\n",
       "... )\n",
       "  node  commodity  level  year  time  value  unit\n",
       "0  foo        baz   None  None  None    1.2  None\n",
       "1  bar        baz   None  None  None    3.4  None\n",
       "\n",
       "Pass some values as direct keyword arguments, and others by unpacking a dictionary:\n",
       "\n",
       ">>> common = dict(\n",
       "...    commodity=\"light\",\n",
       "...    level=\"useful\",\n",
       "...    time=\"year\",\n",
       "...    unit=\"GWa\",\n",
       "... )\n",
       ">>> make_df(\n",
       "...    \"demand\",\n",
       "...    node=[\"Westeros\", \"Middle-earth\"],\n",
       "...    year=[680, 700],\n",
       "...    value=[50, 80],\n",
       "...    # Use values from `common` as additional keyword args:\n",
       "...    **common,\n",
       "... )\n",
       "           node  commodity   level  year  time  value  unit\n",
       "0      Westeros      light  useful   680  year     50   GWa\n",
       "1  Middle-earth      light  useful   700  year     50   GWa\n",
       "\n",
       "Code that uses the deprecated signature, such as:\n",
       "\n",
       ">>> base = {\"year\": [2020, 2021, 2022]}\n",
       ">>> make_df(base, value=1., unit=\"y\")\n",
       "   year  value  unit\n",
       "0     1    1.0     y\n",
       "1     2    1.0     y\n",
       "2     3    1.0     y\n",
       "\n",
       "or:\n",
       "\n",
       ">>> base = dict(\n",
       "...    node=[\"Westeros\", \"Middle-earth\"],\n",
       "...    year=[680, 700],\n",
       "...    time=\"year\",\n",
       "...    unit=\"-\",\n",
       "... )\n",
       ">>> make_df(base, mode=\"standard\")\n",
       "           node  year  time  unit      mode\n",
       "0      Westeros   680  year     -  standard\n",
       "1  Middle-earth   700  year     -  standard\n",
       "\n",
       "…can either be adjusted to use the new signature:\n",
       "\n",
       ">>> make_df(\"duration_period\", **base, value=1., unit=\"y\")\n",
       "\n",
       "or, emulated using the :meth:`pandas.DataFrame.assign` method:\n",
       "\n",
       ">>> pd.DataFrame(base).assign(value=1., unit=\"y\")\n",
       "\n",
       "The former is recommended, because it will ensure the result has the correct columns\n",
       "for the parameter.\n",
       "\n",
       "Parameters\n",
       "----------\n",
       "name : str\n",
       "    Name of a parameter listed in :attr:`.MESSAGE.items` or :attr:`.MACRO.items`.\n",
       "data : optional\n",
       "    Contents for dimensions of the parameter, its 'value', or 'unit'. Other keys are\n",
       "    ignored.\n",
       "\n",
       "Returns\n",
       "-------\n",
       "pandas.DataFrame\n",
       "\n",
       "Raises\n",
       "------\n",
       "ValueError\n",
       "    if `name` is not the name of a MESSAGE or MACRO parameter; if arrays in `data`\n",
       "    have uneven lengths.\n",
       "\u001b[0;31mFile:\u001b[0m      ~/miniconda3/envs/message_env/lib/python3.8/site-packages/message_ix/util/__init__.py\n",
       "\u001b[0;31mType:\u001b[0m      function"
      ]
     },
     "metadata": {},
     "output_type": "display_data"
    }
   ],
   "source": [
    "make_df?\n",
    "# to see what the funcion \"make_df\" does."
   ]
  },
  {
   "cell_type": "code",
   "execution_count": 32,
   "metadata": {},
   "outputs": [],
   "source": [
    "base_output = {\n",
    "    'node_loc': country,\n",
    "    'year_vtg': vintage_years,\n",
    "    'year_act': act_years,\n",
    "    'mode': 'standard',\n",
    "    'node_dest': country,\n",
    "    'time': 'year',\n",
    "    'time_dest': 'year', \n",
    "    'unit': '-',\n",
    "}\n",
    "\n",
    "imports = make_df(base_output, technology='import', commodity='electricity', \n",
    "                  level='secondary', value=1.)\n",
    "scenario.add_par('output', imports)\n",
    "\n",
    "grid = make_df(base_output, technology='electricity_grid', commodity='electricity', \n",
    "               level='final', value=0.873)\n",
    "scenario.add_par('output', grid)\n",
    "\n",
    "low_efficiency = make_df(base_output, technology='low_efficiency', commodity='light_and_appliance', \n",
    "               level='useful', value=1.)\n",
    "scenario.add_par('output', low_efficiency)\n",
    "\n",
    "high_efficiency = make_df(base_output, technology='high_efficiency', commodity='light_and_appliance', \n",
    "              level='useful', value=1.)\n",
    "scenario.add_par('output', high_efficiency)\n",
    "\n",
    "hvac = make_df(base_output, technology='hvac', commodity='hvac', \n",
    "              level='useful', value=1.)\n",
    "scenario.add_par('output', hvac)\n",
    "\n",
    "coal = make_df(base_output, technology='coal_ppl', commodity='electricity', \n",
    "               level='secondary', value=1.)\n",
    "scenario.add_par('output', coal)\n",
    "\n",
    "gas = make_df(base_output, technology='gas_ppl', commodity='electricity', \n",
    "              level='secondary', value=1.)\n",
    "scenario.add_par('output', gas)\n",
    "\n",
    "oil = make_df(base_output, technology='oil_ppl', commodity='electricity', \n",
    "              level='secondary', value=1.)\n",
    "scenario.add_par('output', oil)\n",
    "\n",
    "bio = make_df(base_output, technology='bio_ppl', commodity='electricity', \n",
    "              level='secondary', value=1.)\n",
    "scenario.add_par('output', bio)\n",
    "\n",
    "hydro = make_df(base_output, technology='hydro_ppl', commodity='electricity', \n",
    "                level='secondary', value=1.)\n",
    "scenario.add_par('output', hydro)\n",
    "\n",
    "wind = make_df(base_output, technology='wind_ppl', commodity='electricity', \n",
    "               level='secondary', value=1.)\n",
    "scenario.add_par('output', wind)\n",
    "\n",
    "solar_pv = make_df(base_output, technology='solar_pv_ppl', commodity='electricity', \n",
    "                   level='final', value=1.)\n",
    "scenario.add_par('output', solar_pv)\n",
    "\n",
    "geothermal = make_df(base_output, technology='geothermal', commodity='electricity', \n",
    "                   level='final', value=1.)\n",
    "scenario.add_par('output', geothermal)"
   ]
  },
  {
   "cell_type": "code",
   "execution_count": 33,
   "metadata": {},
   "outputs": [],
   "source": [
    "base_technical_lifetime = {\n",
    "    'node_loc': country,\n",
    "    'year_vtg': horizon,\n",
    "    'unit': 'y',\n",
    "}\n",
    "\n",
    "lifetimes = {\n",
    "    'coal_ppl': 40,\n",
    "    'gas_ppl': 30,\n",
    "    'oil_ppl': 30,\n",
    "    'bio_ppl': 30,\n",
    "    'hydro_ppl': 60,\n",
    "    'wind_ppl': 20,\n",
    "    'solar_pv_ppl': 20,\n",
    "    'geothermal':20,\n",
    "    'low_efficiency': 1,\n",
    "    'high_efficiency': 10,\n",
    "}\n",
    "\n",
    "for tec, val in lifetimes.items():\n",
    "    df = make_df(base_technical_lifetime, technology=tec, value=val)\n",
    "    scenario.add_par('technical_lifetime', df)"
   ]
  },
  {
   "cell_type": "markdown",
   "metadata": {},
   "source": [
    "# Turkey Energy Balance Tables\n",
    "The capacity factors are calculated by dividing the electricity generation of technologies to their installed capacities in 2020.\n",
    "[World Energy Council Turkey](https://dunyaenerji.org.tr/turkiye-enerji-denge-tablolari/)"
   ]
  },
  {
   "cell_type": "code",
   "execution_count": 34,
   "metadata": {},
   "outputs": [],
   "source": [
    "base_capacity_factor = {\n",
    "    'node_loc': country,\n",
    "    'year_vtg': vintage_years,\n",
    "    'year_act': act_years,\n",
    "    'time': 'year',\n",
    "    'unit': '-',\n",
    "}\n",
    "\n",
    "capacity_factor = {\n",
    "    'coal_ppl': 0.76,\n",
    "    'gas_ppl': 0.31,\n",
    "    'oil_ppl': 0.12,\n",
    "    'bio_ppl': 0.44,\n",
    "    'hydro_ppl': 0.28,\n",
    "    'wind_ppl': 0.32,\n",
    "    'geothermal': 0.71,\n",
    "    'solar_pv_ppl': 0.18,\n",
    "    'low_efficiency': 0.1,\n",
    "    'high_efficiency': 0.1,\n",
    "}\n",
    "\n",
    "for tec, val in capacity_factor.items():\n",
    "    df = make_df(base_capacity_factor, technology=tec, value=val)\n",
    "    scenario.add_par('capacity_factor', df)"
   ]
  },
  {
   "cell_type": "markdown",
   "metadata": {},
   "source": [
    "### Technoeconomic Parameters"
   ]
  },
  {
   "cell_type": "markdown",
   "metadata": {},
   "source": [
    "The costs are included from [MESSAGE-ix-GLOBIOM R11 baseline energy model](https://doi.org/10.5281/zenodo.5793870) database."
   ]
  },
  {
   "cell_type": "code",
   "execution_count": 35,
   "metadata": {},
   "outputs": [],
   "source": [
    "base_inv_cost = {\n",
    "    'node_loc': country,\n",
    "    'year_vtg': horizon,\n",
    "    'unit': 'USD/kW',\n",
    "}\n",
    "\n",
    "# Adding a new unit to the library\n",
    "mp.add_unit('USD/kW')    \n",
    "\n",
    "# in $ / kW (specific investment cost)\n",
    "# from MESSAGEix-GLOBIOM R11 Baseline energy model database\n",
    "costs = {\n",
    "    'coal_ppl': 1376.57,\n",
    "    'gas_ppl':  821.31,\n",
    "    'oil_ppl':  730,\n",
    "    'hydro_ppl': 3158.01,\n",
    "    'bio_ppl':  1943.39,\n",
    "    'wind_ppl': 1490,\n",
    "    'geothermal': 4016.51,\n",
    "    'solar_pv_ppl': 839,\n",
    "    'low_efficiency': 5,\n",
    "    'high_efficiency':  900, \n",
    "}\n",
    "\n",
    "for tec, val in costs.items():\n",
    "    df = make_df(base_inv_cost, technology=tec, value=val)\n",
    "    scenario.add_par('inv_cost', df)"
   ]
  },
  {
   "cell_type": "code",
   "execution_count": 36,
   "metadata": {},
   "outputs": [],
   "source": [
    "base_fix_cost = {\n",
    "    'node_loc': country,\n",
    "    'year_vtg': vintage_years,\n",
    "    'year_act': act_years,\n",
    "    'unit': 'USD/kWa',\n",
    "}\n",
    "\n",
    "# Adding a new unit to the library\n",
    "mp.add_unit('USD/kWa')  \n",
    "\n",
    "# in $ / kW / year (every year a fixed quantity is destinated to cover part of the O&M costs\n",
    "# based on the size of the plant, e.g. lighting, labor, scheduled maintenance, etc.)\n",
    "\n",
    "costs = {\n",
    "    'coal_ppl': 36.44,\n",
    "    'gas_ppl':  20.53,\n",
    "    'oil_ppl':  52,\n",
    "    'hydro_ppl': 60.73,\n",
    "    'bio_ppl':  68.83,\n",
    "    'wind_ppl': 33.78,\n",
    "    'solar_pv_ppl': 5.34,\n",
    "    'geothermal': 192.8,\n",
    "}\n",
    "\n",
    "for tec, val in costs.items():\n",
    "    df = make_df(base_fix_cost, technology=tec, value=val)\n",
    "    scenario.add_par('fix_cost', df)"
   ]
  },
  {
   "cell_type": "code",
   "execution_count": 37,
   "metadata": {},
   "outputs": [],
   "source": [
    "base_var_cost = {\n",
    "    'node_loc': country,\n",
    "    'year_vtg': vintage_years,\n",
    "    'year_act': act_years,\n",
    "    'mode': 'standard',\n",
    "    'time': 'year',\n",
    "    'unit': 'USD/kWa',\n",
    "}\n",
    "\n",
    "# Variable O&M (costs associated with the degradation of equipment when the plant is functioning\n",
    "# per unit of energy produced)\n",
    "# kWa = kW·year = 8760 kWh. Therefore this costs represents USD per 8760 kWh of energy.\n",
    "# Do not confuse with fixed O&M units.\n",
    "\n",
    "\n",
    "#var O&M in $ / MWh \n",
    "costs = {\n",
    "    'electricity_grid': 25.2,\n",
    "}\n",
    "\n",
    "for tec, val in costs.items():\n",
    "    df = make_df(base_var_cost, technology=tec, value=val * 8760. / 1e3) # to convert it into USD/kWa\n",
    "    scenario.add_par('var_cost', df)"
   ]
  },
  {
   "cell_type": "markdown",
   "metadata": {},
   "source": [
    "## Dynamic Behavior Parameters"
   ]
  },
  {
   "cell_type": "markdown",
   "metadata": {},
   "source": [
    "In this section the following parameters will be added to the different technologies:\n",
    "- `bound_activity_up`\n",
    "- `bound_activity_lo`\n",
    "- `bound_new_capacity_up`\n",
    "- `initial_activity_up`\n",
    "- `growth_activity_up`\n",
    "\n",
    "As stated in the **Introduction**, a full list of parameters can be found in the *MESSAGEix* documentation. Specifically for this list, please refer to the section [Bounds on capacity and activity](https://docs.messageix.org/en/stable/model/MESSAGE/parameter_def.html#bounds-on-capacity-and-activity)."
   ]
  },
  {
   "cell_type": "code",
   "execution_count": 38,
   "metadata": {},
   "outputs": [],
   "source": [
    "base_growth = {\n",
    "    'node_loc': country,\n",
    "    'year_act': horizon[1:],\n",
    "    'value': 0.1,\n",
    "    'time': 'year',\n",
    "    'unit': '%',\n",
    "}\n",
    "\n",
    "growth_technologies = [\n",
    "    \"coal_ppl\", \n",
    "    \"gas_ppl\", \n",
    "    \"oil_ppl\", \n",
    "    \"bio_ppl\", \n",
    "    \"hydro_ppl\",\n",
    "    \"wind_ppl\", \n",
    "    \"solar_pv_ppl\", \n",
    "    \"high_efficiency\",\n",
    "    \"low_efficiency\",\n",
    "]\n",
    "\n",
    "for tec in growth_technologies:\n",
    "    df = make_df(base_growth, technology=tec)\n",
    "    scenario.add_par('growth_activity_up', df)"
   ]
  },
  {
   "cell_type": "code",
   "execution_count": 39,
   "metadata": {},
   "outputs": [
    {
     "data": {
      "text/html": [
       "<div>\n",
       "<style scoped>\n",
       "    .dataframe tbody tr th:only-of-type {\n",
       "        vertical-align: middle;\n",
       "    }\n",
       "\n",
       "    .dataframe tbody tr th {\n",
       "        vertical-align: top;\n",
       "    }\n",
       "\n",
       "    .dataframe thead th {\n",
       "        text-align: right;\n",
       "    }\n",
       "</style>\n",
       "<table border=\"1\" class=\"dataframe\">\n",
       "  <thead>\n",
       "    <tr style=\"text-align: right;\">\n",
       "      <th></th>\n",
       "      <th>node_loc</th>\n",
       "      <th>year_act</th>\n",
       "      <th>value</th>\n",
       "      <th>time</th>\n",
       "      <th>unit</th>\n",
       "      <th>technology</th>\n",
       "    </tr>\n",
       "  </thead>\n",
       "  <tbody>\n",
       "    <tr>\n",
       "      <th>0</th>\n",
       "      <td>Turkey</td>\n",
       "      <td>2025</td>\n",
       "      <td>0.1</td>\n",
       "      <td>year</td>\n",
       "      <td>%</td>\n",
       "      <td>low_efficiency</td>\n",
       "    </tr>\n",
       "    <tr>\n",
       "      <th>1</th>\n",
       "      <td>Turkey</td>\n",
       "      <td>2030</td>\n",
       "      <td>0.1</td>\n",
       "      <td>year</td>\n",
       "      <td>%</td>\n",
       "      <td>low_efficiency</td>\n",
       "    </tr>\n",
       "    <tr>\n",
       "      <th>2</th>\n",
       "      <td>Turkey</td>\n",
       "      <td>2035</td>\n",
       "      <td>0.1</td>\n",
       "      <td>year</td>\n",
       "      <td>%</td>\n",
       "      <td>low_efficiency</td>\n",
       "    </tr>\n",
       "    <tr>\n",
       "      <th>3</th>\n",
       "      <td>Turkey</td>\n",
       "      <td>2040</td>\n",
       "      <td>0.1</td>\n",
       "      <td>year</td>\n",
       "      <td>%</td>\n",
       "      <td>low_efficiency</td>\n",
       "    </tr>\n",
       "    <tr>\n",
       "      <th>4</th>\n",
       "      <td>Turkey</td>\n",
       "      <td>2045</td>\n",
       "      <td>0.1</td>\n",
       "      <td>year</td>\n",
       "      <td>%</td>\n",
       "      <td>low_efficiency</td>\n",
       "    </tr>\n",
       "    <tr>\n",
       "      <th>5</th>\n",
       "      <td>Turkey</td>\n",
       "      <td>2050</td>\n",
       "      <td>0.1</td>\n",
       "      <td>year</td>\n",
       "      <td>%</td>\n",
       "      <td>low_efficiency</td>\n",
       "    </tr>\n",
       "  </tbody>\n",
       "</table>\n",
       "</div>"
      ],
      "text/plain": [
       "  node_loc  year_act  value  time unit      technology\n",
       "0   Turkey      2025    0.1  year    %  low_efficiency\n",
       "1   Turkey      2030    0.1  year    %  low_efficiency\n",
       "2   Turkey      2035    0.1  year    %  low_efficiency\n",
       "3   Turkey      2040    0.1  year    %  low_efficiency\n",
       "4   Turkey      2045    0.1  year    %  low_efficiency\n",
       "5   Turkey      2050    0.1  year    %  low_efficiency"
      ]
     },
     "execution_count": 39,
     "metadata": {},
     "output_type": "execute_result"
    }
   ],
   "source": [
    "df"
   ]
  },
  {
   "cell_type": "code",
   "execution_count": 40,
   "metadata": {},
   "outputs": [],
   "source": [
    "base_initial = {\n",
    "    'node_loc': country,\n",
    "    'year_act': horizon[1:],\n",
    "    'time': 'year',\n",
    "    'unit': '%',\n",
    "}\n",
    "\n",
    "for tec in light_and_appliance:\n",
    "    df = make_df(base_initial, technology=tec, value=0.01 * light_demand['value'].loc[horizon[1:]])\n",
    "    scenario.add_par('initial_activity_up', df)"
   ]
  },
  {
   "cell_type": "code",
   "execution_count": 41,
   "metadata": {},
   "outputs": [
    {
     "data": {
      "text/html": [
       "<div>\n",
       "<style scoped>\n",
       "    .dataframe tbody tr th:only-of-type {\n",
       "        vertical-align: middle;\n",
       "    }\n",
       "\n",
       "    .dataframe tbody tr th {\n",
       "        vertical-align: top;\n",
       "    }\n",
       "\n",
       "    .dataframe thead th {\n",
       "        text-align: right;\n",
       "    }\n",
       "</style>\n",
       "<table border=\"1\" class=\"dataframe\">\n",
       "  <thead>\n",
       "    <tr style=\"text-align: right;\">\n",
       "      <th></th>\n",
       "      <th>node_loc</th>\n",
       "      <th>year_act</th>\n",
       "      <th>time</th>\n",
       "      <th>unit</th>\n",
       "      <th>technology</th>\n",
       "      <th>value</th>\n",
       "    </tr>\n",
       "  </thead>\n",
       "  <tbody>\n",
       "    <tr>\n",
       "      <th>2025</th>\n",
       "      <td>Turkey</td>\n",
       "      <td>2025</td>\n",
       "      <td>year</td>\n",
       "      <td>%</td>\n",
       "      <td>high_efficiency</td>\n",
       "      <td>0.292413</td>\n",
       "    </tr>\n",
       "    <tr>\n",
       "      <th>2030</th>\n",
       "      <td>Turkey</td>\n",
       "      <td>2030</td>\n",
       "      <td>year</td>\n",
       "      <td>%</td>\n",
       "      <td>high_efficiency</td>\n",
       "      <td>0.322680</td>\n",
       "    </tr>\n",
       "    <tr>\n",
       "      <th>2035</th>\n",
       "      <td>Turkey</td>\n",
       "      <td>2035</td>\n",
       "      <td>year</td>\n",
       "      <td>%</td>\n",
       "      <td>high_efficiency</td>\n",
       "      <td>0.356677</td>\n",
       "    </tr>\n",
       "    <tr>\n",
       "      <th>2040</th>\n",
       "      <td>Turkey</td>\n",
       "      <td>2040</td>\n",
       "      <td>year</td>\n",
       "      <td>%</td>\n",
       "      <td>high_efficiency</td>\n",
       "      <td>0.387382</td>\n",
       "    </tr>\n",
       "    <tr>\n",
       "      <th>2045</th>\n",
       "      <td>Turkey</td>\n",
       "      <td>2045</td>\n",
       "      <td>year</td>\n",
       "      <td>%</td>\n",
       "      <td>high_efficiency</td>\n",
       "      <td>0.417602</td>\n",
       "    </tr>\n",
       "    <tr>\n",
       "      <th>2050</th>\n",
       "      <td>Turkey</td>\n",
       "      <td>2050</td>\n",
       "      <td>year</td>\n",
       "      <td>%</td>\n",
       "      <td>high_efficiency</td>\n",
       "      <td>0.444989</td>\n",
       "    </tr>\n",
       "  </tbody>\n",
       "</table>\n",
       "</div>"
      ],
      "text/plain": [
       "     node_loc  year_act  time unit       technology     value\n",
       "2025   Turkey      2025  year    %  high_efficiency  0.292413\n",
       "2030   Turkey      2030  year    %  high_efficiency  0.322680\n",
       "2035   Turkey      2035  year    %  high_efficiency  0.356677\n",
       "2040   Turkey      2040  year    %  high_efficiency  0.387382\n",
       "2045   Turkey      2045  year    %  high_efficiency  0.417602\n",
       "2050   Turkey      2050  year    %  high_efficiency  0.444989"
      ]
     },
     "execution_count": 41,
     "metadata": {},
     "output_type": "execute_result"
    }
   ],
   "source": [
    "df"
   ]
  },
  {
   "cell_type": "code",
   "execution_count": 42,
   "metadata": {},
   "outputs": [],
   "source": [
    "base_activity = {\n",
    "    'node_loc': country,\n",
    "    'year_act': [2020],\n",
    "    'mode': 'standard',\n",
    "    'time': 'year',\n",
    "    'unit': 'GWa',\n",
    "}\n",
    "\n",
    "# in GWh - from Turkey Energy Balance Table 2020\n",
    "activity = {\n",
    "    'coal_ppl': 105812,\n",
    "    'gas_ppl':  70931,\n",
    "    'oil_ppl':  323,\n",
    "    'hydro_ppl': 78094,\n",
    "    'bio_ppl':  5737,\n",
    "    'wind_ppl': 24828,\n",
    "    'solar_pv_ppl': 10950,\n",
    "    'geothermal': 10028,\n",
    "    'import': 6059,\n",
    "    'high_efficiency': 0,\n",
    "}\n",
    "\n",
    "#MODEL CALIBRATION: by inserting an upper and lower bound to the same quantity we are ensuring\n",
    "#that the model is calibrated at that value that year, so we are at the right starting point.\n",
    "for tec, val in activity.items():\n",
    "    df = make_df(base_activity, technology=tec, value=val / 8760.)\n",
    "    scenario.add_par('bound_activity_up', df)\n",
    "    scenario.add_par('bound_activity_lo', df)"
   ]
  },
  {
   "cell_type": "code",
   "execution_count": 43,
   "metadata": {},
   "outputs": [],
   "source": [
    "base_capacity = {\n",
    "    'node_loc': country,\n",
    "    'year_vtg': [2020],\n",
    "    'unit': 'GW',\n",
    "}\n",
    "\n",
    "cf = pd.Series(capacity_factor)\n",
    "act = pd.Series(activity)\n",
    "capacity = (act / 8760 / cf ).dropna().to_dict()\n",
    "\n",
    "for tec, val in capacity.items():\n",
    "    df = make_df(base_capacity, technology=tec, value=val)\n",
    "    scenario.add_par('bound_new_capacity_up', df)"
   ]
  },
  {
   "cell_type": "code",
   "execution_count": 44,
   "metadata": {},
   "outputs": [
    {
     "data": {
      "text/plain": [
       "coal_ppl           0.76\n",
       "gas_ppl            0.31\n",
       "oil_ppl            0.12\n",
       "bio_ppl            0.44\n",
       "hydro_ppl          0.28\n",
       "wind_ppl           0.32\n",
       "geothermal         0.71\n",
       "solar_pv_ppl       0.18\n",
       "low_efficiency     0.10\n",
       "high_efficiency    0.10\n",
       "dtype: float64"
      ]
     },
     "execution_count": 44,
     "metadata": {},
     "output_type": "execute_result"
    }
   ],
   "source": [
    "cf"
   ]
  },
  {
   "cell_type": "code",
   "execution_count": 45,
   "metadata": {},
   "outputs": [
    {
     "data": {
      "text/html": [
       "<div>\n",
       "<style scoped>\n",
       "    .dataframe tbody tr th:only-of-type {\n",
       "        vertical-align: middle;\n",
       "    }\n",
       "\n",
       "    .dataframe tbody tr th {\n",
       "        vertical-align: top;\n",
       "    }\n",
       "\n",
       "    .dataframe thead th {\n",
       "        text-align: right;\n",
       "    }\n",
       "</style>\n",
       "<table border=\"1\" class=\"dataframe\">\n",
       "  <thead>\n",
       "    <tr style=\"text-align: right;\">\n",
       "      <th></th>\n",
       "      <th>node_loc</th>\n",
       "      <th>technology</th>\n",
       "      <th>year_vtg</th>\n",
       "      <th>value</th>\n",
       "      <th>unit</th>\n",
       "    </tr>\n",
       "  </thead>\n",
       "  <tbody>\n",
       "    <tr>\n",
       "      <th>0</th>\n",
       "      <td>Turkey</td>\n",
       "      <td>bio_ppl</td>\n",
       "      <td>2020</td>\n",
       "      <td>1.488429</td>\n",
       "      <td>GW</td>\n",
       "    </tr>\n",
       "    <tr>\n",
       "      <th>1</th>\n",
       "      <td>Turkey</td>\n",
       "      <td>coal_ppl</td>\n",
       "      <td>2020</td>\n",
       "      <td>15.893415</td>\n",
       "      <td>GW</td>\n",
       "    </tr>\n",
       "    <tr>\n",
       "      <th>2</th>\n",
       "      <td>Turkey</td>\n",
       "      <td>gas_ppl</td>\n",
       "      <td>2020</td>\n",
       "      <td>26.119826</td>\n",
       "      <td>GW</td>\n",
       "    </tr>\n",
       "    <tr>\n",
       "      <th>3</th>\n",
       "      <td>Turkey</td>\n",
       "      <td>geothermal</td>\n",
       "      <td>2020</td>\n",
       "      <td>1.612322</td>\n",
       "      <td>GW</td>\n",
       "    </tr>\n",
       "    <tr>\n",
       "      <th>4</th>\n",
       "      <td>Turkey</td>\n",
       "      <td>high_efficiency</td>\n",
       "      <td>2020</td>\n",
       "      <td>0.000000</td>\n",
       "      <td>GW</td>\n",
       "    </tr>\n",
       "    <tr>\n",
       "      <th>5</th>\n",
       "      <td>Turkey</td>\n",
       "      <td>hydro_ppl</td>\n",
       "      <td>2020</td>\n",
       "      <td>31.838715</td>\n",
       "      <td>GW</td>\n",
       "    </tr>\n",
       "    <tr>\n",
       "      <th>6</th>\n",
       "      <td>Turkey</td>\n",
       "      <td>oil_ppl</td>\n",
       "      <td>2020</td>\n",
       "      <td>0.307268</td>\n",
       "      <td>GW</td>\n",
       "    </tr>\n",
       "    <tr>\n",
       "      <th>7</th>\n",
       "      <td>Turkey</td>\n",
       "      <td>solar_pv_ppl</td>\n",
       "      <td>2020</td>\n",
       "      <td>6.944444</td>\n",
       "      <td>GW</td>\n",
       "    </tr>\n",
       "    <tr>\n",
       "      <th>8</th>\n",
       "      <td>Turkey</td>\n",
       "      <td>wind_ppl</td>\n",
       "      <td>2020</td>\n",
       "      <td>8.857021</td>\n",
       "      <td>GW</td>\n",
       "    </tr>\n",
       "  </tbody>\n",
       "</table>\n",
       "</div>"
      ],
      "text/plain": [
       "  node_loc       technology  year_vtg      value unit\n",
       "0   Turkey          bio_ppl      2020   1.488429   GW\n",
       "1   Turkey         coal_ppl      2020  15.893415   GW\n",
       "2   Turkey          gas_ppl      2020  26.119826   GW\n",
       "3   Turkey       geothermal      2020   1.612322   GW\n",
       "4   Turkey  high_efficiency      2020   0.000000   GW\n",
       "5   Turkey        hydro_ppl      2020  31.838715   GW\n",
       "6   Turkey          oil_ppl      2020   0.307268   GW\n",
       "7   Turkey     solar_pv_ppl      2020   6.944444   GW\n",
       "8   Turkey         wind_ppl      2020   8.857021   GW"
      ]
     },
     "execution_count": 45,
     "metadata": {},
     "output_type": "execute_result"
    }
   ],
   "source": [
    "scenario.par(\"bound_new_capacity_up\")"
   ]
  },
  {
   "cell_type": "code",
   "execution_count": 46,
   "metadata": {},
   "outputs": [],
   "source": [
    "base_activity = {\n",
    "    'node_loc': country,\n",
    "    'year_act': horizon[1:],\n",
    "    'mode': 'standard',\n",
    "    'time': 'year',\n",
    "    'unit': 'GWa',\n",
    "}\n",
    "\n",
    "# in GWh - base value from Turkey Energy Balance Table 2020\n",
    "keep_activity = {\n",
    "    'hydro_ppl': 78094,\n",
    "    'bio_ppl':  5737,\n",
    "    'import': 6059,\n",
    "    'geothermal': 10028,\n",
    "}\n",
    "\n",
    "for tec, val in keep_activity.items():\n",
    "    df = make_df(base_activity, technology=tec, value=val / 8760.)\n",
    "    scenario.add_par('bound_activity_up', df)"
   ]
  },
  {
   "cell_type": "code",
   "execution_count": 47,
   "metadata": {},
   "outputs": [
    {
     "data": {
      "text/html": [
       "<div>\n",
       "<style scoped>\n",
       "    .dataframe tbody tr th:only-of-type {\n",
       "        vertical-align: middle;\n",
       "    }\n",
       "\n",
       "    .dataframe tbody tr th {\n",
       "        vertical-align: top;\n",
       "    }\n",
       "\n",
       "    .dataframe thead th {\n",
       "        text-align: right;\n",
       "    }\n",
       "</style>\n",
       "<table border=\"1\" class=\"dataframe\">\n",
       "  <thead>\n",
       "    <tr style=\"text-align: right;\">\n",
       "      <th></th>\n",
       "      <th>node_loc</th>\n",
       "      <th>technology</th>\n",
       "      <th>year_act</th>\n",
       "      <th>mode</th>\n",
       "      <th>time</th>\n",
       "      <th>value</th>\n",
       "      <th>unit</th>\n",
       "    </tr>\n",
       "  </thead>\n",
       "  <tbody>\n",
       "    <tr>\n",
       "      <th>0</th>\n",
       "      <td>Turkey</td>\n",
       "      <td>coal_ppl</td>\n",
       "      <td>2020</td>\n",
       "      <td>standard</td>\n",
       "      <td>year</td>\n",
       "      <td>12.078995</td>\n",
       "      <td>GWa</td>\n",
       "    </tr>\n",
       "    <tr>\n",
       "      <th>1</th>\n",
       "      <td>Turkey</td>\n",
       "      <td>gas_ppl</td>\n",
       "      <td>2020</td>\n",
       "      <td>standard</td>\n",
       "      <td>year</td>\n",
       "      <td>8.097146</td>\n",
       "      <td>GWa</td>\n",
       "    </tr>\n",
       "    <tr>\n",
       "      <th>2</th>\n",
       "      <td>Turkey</td>\n",
       "      <td>oil_ppl</td>\n",
       "      <td>2020</td>\n",
       "      <td>standard</td>\n",
       "      <td>year</td>\n",
       "      <td>0.036872</td>\n",
       "      <td>GWa</td>\n",
       "    </tr>\n",
       "    <tr>\n",
       "      <th>3</th>\n",
       "      <td>Turkey</td>\n",
       "      <td>hydro_ppl</td>\n",
       "      <td>2020</td>\n",
       "      <td>standard</td>\n",
       "      <td>year</td>\n",
       "      <td>8.914840</td>\n",
       "      <td>GWa</td>\n",
       "    </tr>\n",
       "    <tr>\n",
       "      <th>4</th>\n",
       "      <td>Turkey</td>\n",
       "      <td>bio_ppl</td>\n",
       "      <td>2020</td>\n",
       "      <td>standard</td>\n",
       "      <td>year</td>\n",
       "      <td>0.654909</td>\n",
       "      <td>GWa</td>\n",
       "    </tr>\n",
       "    <tr>\n",
       "      <th>5</th>\n",
       "      <td>Turkey</td>\n",
       "      <td>wind_ppl</td>\n",
       "      <td>2020</td>\n",
       "      <td>standard</td>\n",
       "      <td>year</td>\n",
       "      <td>2.834247</td>\n",
       "      <td>GWa</td>\n",
       "    </tr>\n",
       "    <tr>\n",
       "      <th>6</th>\n",
       "      <td>Turkey</td>\n",
       "      <td>solar_pv_ppl</td>\n",
       "      <td>2020</td>\n",
       "      <td>standard</td>\n",
       "      <td>year</td>\n",
       "      <td>1.250000</td>\n",
       "      <td>GWa</td>\n",
       "    </tr>\n",
       "    <tr>\n",
       "      <th>7</th>\n",
       "      <td>Turkey</td>\n",
       "      <td>geothermal</td>\n",
       "      <td>2020</td>\n",
       "      <td>standard</td>\n",
       "      <td>year</td>\n",
       "      <td>1.144749</td>\n",
       "      <td>GWa</td>\n",
       "    </tr>\n",
       "    <tr>\n",
       "      <th>8</th>\n",
       "      <td>Turkey</td>\n",
       "      <td>import</td>\n",
       "      <td>2020</td>\n",
       "      <td>standard</td>\n",
       "      <td>year</td>\n",
       "      <td>0.691667</td>\n",
       "      <td>GWa</td>\n",
       "    </tr>\n",
       "    <tr>\n",
       "      <th>9</th>\n",
       "      <td>Turkey</td>\n",
       "      <td>high_efficiency</td>\n",
       "      <td>2020</td>\n",
       "      <td>standard</td>\n",
       "      <td>year</td>\n",
       "      <td>0.000000</td>\n",
       "      <td>GWa</td>\n",
       "    </tr>\n",
       "    <tr>\n",
       "      <th>10</th>\n",
       "      <td>Turkey</td>\n",
       "      <td>hydro_ppl</td>\n",
       "      <td>2025</td>\n",
       "      <td>standard</td>\n",
       "      <td>year</td>\n",
       "      <td>8.914840</td>\n",
       "      <td>GWa</td>\n",
       "    </tr>\n",
       "    <tr>\n",
       "      <th>11</th>\n",
       "      <td>Turkey</td>\n",
       "      <td>hydro_ppl</td>\n",
       "      <td>2030</td>\n",
       "      <td>standard</td>\n",
       "      <td>year</td>\n",
       "      <td>8.914840</td>\n",
       "      <td>GWa</td>\n",
       "    </tr>\n",
       "    <tr>\n",
       "      <th>12</th>\n",
       "      <td>Turkey</td>\n",
       "      <td>hydro_ppl</td>\n",
       "      <td>2035</td>\n",
       "      <td>standard</td>\n",
       "      <td>year</td>\n",
       "      <td>8.914840</td>\n",
       "      <td>GWa</td>\n",
       "    </tr>\n",
       "    <tr>\n",
       "      <th>13</th>\n",
       "      <td>Turkey</td>\n",
       "      <td>hydro_ppl</td>\n",
       "      <td>2040</td>\n",
       "      <td>standard</td>\n",
       "      <td>year</td>\n",
       "      <td>8.914840</td>\n",
       "      <td>GWa</td>\n",
       "    </tr>\n",
       "    <tr>\n",
       "      <th>14</th>\n",
       "      <td>Turkey</td>\n",
       "      <td>hydro_ppl</td>\n",
       "      <td>2045</td>\n",
       "      <td>standard</td>\n",
       "      <td>year</td>\n",
       "      <td>8.914840</td>\n",
       "      <td>GWa</td>\n",
       "    </tr>\n",
       "    <tr>\n",
       "      <th>15</th>\n",
       "      <td>Turkey</td>\n",
       "      <td>hydro_ppl</td>\n",
       "      <td>2050</td>\n",
       "      <td>standard</td>\n",
       "      <td>year</td>\n",
       "      <td>8.914840</td>\n",
       "      <td>GWa</td>\n",
       "    </tr>\n",
       "    <tr>\n",
       "      <th>16</th>\n",
       "      <td>Turkey</td>\n",
       "      <td>bio_ppl</td>\n",
       "      <td>2025</td>\n",
       "      <td>standard</td>\n",
       "      <td>year</td>\n",
       "      <td>0.654909</td>\n",
       "      <td>GWa</td>\n",
       "    </tr>\n",
       "    <tr>\n",
       "      <th>17</th>\n",
       "      <td>Turkey</td>\n",
       "      <td>bio_ppl</td>\n",
       "      <td>2030</td>\n",
       "      <td>standard</td>\n",
       "      <td>year</td>\n",
       "      <td>0.654909</td>\n",
       "      <td>GWa</td>\n",
       "    </tr>\n",
       "    <tr>\n",
       "      <th>18</th>\n",
       "      <td>Turkey</td>\n",
       "      <td>bio_ppl</td>\n",
       "      <td>2035</td>\n",
       "      <td>standard</td>\n",
       "      <td>year</td>\n",
       "      <td>0.654909</td>\n",
       "      <td>GWa</td>\n",
       "    </tr>\n",
       "    <tr>\n",
       "      <th>19</th>\n",
       "      <td>Turkey</td>\n",
       "      <td>bio_ppl</td>\n",
       "      <td>2040</td>\n",
       "      <td>standard</td>\n",
       "      <td>year</td>\n",
       "      <td>0.654909</td>\n",
       "      <td>GWa</td>\n",
       "    </tr>\n",
       "    <tr>\n",
       "      <th>20</th>\n",
       "      <td>Turkey</td>\n",
       "      <td>bio_ppl</td>\n",
       "      <td>2045</td>\n",
       "      <td>standard</td>\n",
       "      <td>year</td>\n",
       "      <td>0.654909</td>\n",
       "      <td>GWa</td>\n",
       "    </tr>\n",
       "    <tr>\n",
       "      <th>21</th>\n",
       "      <td>Turkey</td>\n",
       "      <td>bio_ppl</td>\n",
       "      <td>2050</td>\n",
       "      <td>standard</td>\n",
       "      <td>year</td>\n",
       "      <td>0.654909</td>\n",
       "      <td>GWa</td>\n",
       "    </tr>\n",
       "    <tr>\n",
       "      <th>22</th>\n",
       "      <td>Turkey</td>\n",
       "      <td>import</td>\n",
       "      <td>2025</td>\n",
       "      <td>standard</td>\n",
       "      <td>year</td>\n",
       "      <td>0.691667</td>\n",
       "      <td>GWa</td>\n",
       "    </tr>\n",
       "    <tr>\n",
       "      <th>23</th>\n",
       "      <td>Turkey</td>\n",
       "      <td>import</td>\n",
       "      <td>2030</td>\n",
       "      <td>standard</td>\n",
       "      <td>year</td>\n",
       "      <td>0.691667</td>\n",
       "      <td>GWa</td>\n",
       "    </tr>\n",
       "    <tr>\n",
       "      <th>24</th>\n",
       "      <td>Turkey</td>\n",
       "      <td>import</td>\n",
       "      <td>2035</td>\n",
       "      <td>standard</td>\n",
       "      <td>year</td>\n",
       "      <td>0.691667</td>\n",
       "      <td>GWa</td>\n",
       "    </tr>\n",
       "    <tr>\n",
       "      <th>25</th>\n",
       "      <td>Turkey</td>\n",
       "      <td>import</td>\n",
       "      <td>2040</td>\n",
       "      <td>standard</td>\n",
       "      <td>year</td>\n",
       "      <td>0.691667</td>\n",
       "      <td>GWa</td>\n",
       "    </tr>\n",
       "    <tr>\n",
       "      <th>26</th>\n",
       "      <td>Turkey</td>\n",
       "      <td>import</td>\n",
       "      <td>2045</td>\n",
       "      <td>standard</td>\n",
       "      <td>year</td>\n",
       "      <td>0.691667</td>\n",
       "      <td>GWa</td>\n",
       "    </tr>\n",
       "    <tr>\n",
       "      <th>27</th>\n",
       "      <td>Turkey</td>\n",
       "      <td>import</td>\n",
       "      <td>2050</td>\n",
       "      <td>standard</td>\n",
       "      <td>year</td>\n",
       "      <td>0.691667</td>\n",
       "      <td>GWa</td>\n",
       "    </tr>\n",
       "    <tr>\n",
       "      <th>28</th>\n",
       "      <td>Turkey</td>\n",
       "      <td>geothermal</td>\n",
       "      <td>2025</td>\n",
       "      <td>standard</td>\n",
       "      <td>year</td>\n",
       "      <td>1.144749</td>\n",
       "      <td>GWa</td>\n",
       "    </tr>\n",
       "    <tr>\n",
       "      <th>29</th>\n",
       "      <td>Turkey</td>\n",
       "      <td>geothermal</td>\n",
       "      <td>2030</td>\n",
       "      <td>standard</td>\n",
       "      <td>year</td>\n",
       "      <td>1.144749</td>\n",
       "      <td>GWa</td>\n",
       "    </tr>\n",
       "    <tr>\n",
       "      <th>30</th>\n",
       "      <td>Turkey</td>\n",
       "      <td>geothermal</td>\n",
       "      <td>2035</td>\n",
       "      <td>standard</td>\n",
       "      <td>year</td>\n",
       "      <td>1.144749</td>\n",
       "      <td>GWa</td>\n",
       "    </tr>\n",
       "    <tr>\n",
       "      <th>31</th>\n",
       "      <td>Turkey</td>\n",
       "      <td>geothermal</td>\n",
       "      <td>2040</td>\n",
       "      <td>standard</td>\n",
       "      <td>year</td>\n",
       "      <td>1.144749</td>\n",
       "      <td>GWa</td>\n",
       "    </tr>\n",
       "    <tr>\n",
       "      <th>32</th>\n",
       "      <td>Turkey</td>\n",
       "      <td>geothermal</td>\n",
       "      <td>2045</td>\n",
       "      <td>standard</td>\n",
       "      <td>year</td>\n",
       "      <td>1.144749</td>\n",
       "      <td>GWa</td>\n",
       "    </tr>\n",
       "    <tr>\n",
       "      <th>33</th>\n",
       "      <td>Turkey</td>\n",
       "      <td>geothermal</td>\n",
       "      <td>2050</td>\n",
       "      <td>standard</td>\n",
       "      <td>year</td>\n",
       "      <td>1.144749</td>\n",
       "      <td>GWa</td>\n",
       "    </tr>\n",
       "  </tbody>\n",
       "</table>\n",
       "</div>"
      ],
      "text/plain": [
       "   node_loc       technology  year_act      mode  time      value unit\n",
       "0    Turkey         coal_ppl      2020  standard  year  12.078995  GWa\n",
       "1    Turkey          gas_ppl      2020  standard  year   8.097146  GWa\n",
       "2    Turkey          oil_ppl      2020  standard  year   0.036872  GWa\n",
       "3    Turkey        hydro_ppl      2020  standard  year   8.914840  GWa\n",
       "4    Turkey          bio_ppl      2020  standard  year   0.654909  GWa\n",
       "5    Turkey         wind_ppl      2020  standard  year   2.834247  GWa\n",
       "6    Turkey     solar_pv_ppl      2020  standard  year   1.250000  GWa\n",
       "7    Turkey       geothermal      2020  standard  year   1.144749  GWa\n",
       "8    Turkey           import      2020  standard  year   0.691667  GWa\n",
       "9    Turkey  high_efficiency      2020  standard  year   0.000000  GWa\n",
       "10   Turkey        hydro_ppl      2025  standard  year   8.914840  GWa\n",
       "11   Turkey        hydro_ppl      2030  standard  year   8.914840  GWa\n",
       "12   Turkey        hydro_ppl      2035  standard  year   8.914840  GWa\n",
       "13   Turkey        hydro_ppl      2040  standard  year   8.914840  GWa\n",
       "14   Turkey        hydro_ppl      2045  standard  year   8.914840  GWa\n",
       "15   Turkey        hydro_ppl      2050  standard  year   8.914840  GWa\n",
       "16   Turkey          bio_ppl      2025  standard  year   0.654909  GWa\n",
       "17   Turkey          bio_ppl      2030  standard  year   0.654909  GWa\n",
       "18   Turkey          bio_ppl      2035  standard  year   0.654909  GWa\n",
       "19   Turkey          bio_ppl      2040  standard  year   0.654909  GWa\n",
       "20   Turkey          bio_ppl      2045  standard  year   0.654909  GWa\n",
       "21   Turkey          bio_ppl      2050  standard  year   0.654909  GWa\n",
       "22   Turkey           import      2025  standard  year   0.691667  GWa\n",
       "23   Turkey           import      2030  standard  year   0.691667  GWa\n",
       "24   Turkey           import      2035  standard  year   0.691667  GWa\n",
       "25   Turkey           import      2040  standard  year   0.691667  GWa\n",
       "26   Turkey           import      2045  standard  year   0.691667  GWa\n",
       "27   Turkey           import      2050  standard  year   0.691667  GWa\n",
       "28   Turkey       geothermal      2025  standard  year   1.144749  GWa\n",
       "29   Turkey       geothermal      2030  standard  year   1.144749  GWa\n",
       "30   Turkey       geothermal      2035  standard  year   1.144749  GWa\n",
       "31   Turkey       geothermal      2040  standard  year   1.144749  GWa\n",
       "32   Turkey       geothermal      2045  standard  year   1.144749  GWa\n",
       "33   Turkey       geothermal      2050  standard  year   1.144749  GWa"
      ]
     },
     "execution_count": 47,
     "metadata": {},
     "output_type": "execute_result"
    }
   ],
   "source": [
    "scenario.par(\"bound_activity_up\")"
   ]
  },
  {
   "cell_type": "code",
   "execution_count": 48,
   "metadata": {},
   "outputs": [],
   "source": [
    "## Emissions"
   ]
  },
  {
   "cell_type": "code",
   "execution_count": 49,
   "metadata": {},
   "outputs": [],
   "source": [
    "scenario.add_set('emission', 'CO2')\n",
    "scenario.add_cat('emission', 'GHGs', 'CO2')"
   ]
  },
  {
   "cell_type": "code",
   "execution_count": 50,
   "metadata": {},
   "outputs": [],
   "source": [
    "base_emissions = {\n",
    "    'node_loc': country,\n",
    "    'year_vtg': vintage_years,\n",
    "    'year_act': act_years,\n",
    "    'mode': 'standard',\n",
    "    'unit': 'tCO2/kWa',\n",
    "}\n",
    "\n",
    "# adding new units to the model library (needed only once)\n",
    "mp.add_unit('tCO2/kWa')\n",
    "mp.add_unit('MtCO2')\n",
    "\n",
    "# Generic values used for emissions\n",
    "emissions = {\n",
    "    'coal_ppl': ('CO2', 0.854), # units: tCO2/MWh\n",
    "    'gas_ppl':  ('CO2', 0.339), # units: tCO2/MWh\n",
    "    'oil_ppl':  ('CO2', 0.57),  # units: tCO2/MWh\n",
    "}\n",
    "\n",
    "for tec, (species, val) in emissions.items():\n",
    "    df = make_df(base_emissions, technology=tec, emission=species, value=val * 8760. / 1000) #to convert tCO2/MWh into tCO2/kWa\n",
    "    scenario.add_par('emission_factor', df)"
   ]
  },
  {
   "cell_type": "code",
   "execution_count": 51,
   "metadata": {},
   "outputs": [
    {
     "data": {
      "text/html": [
       "<div>\n",
       "<style scoped>\n",
       "    .dataframe tbody tr th:only-of-type {\n",
       "        vertical-align: middle;\n",
       "    }\n",
       "\n",
       "    .dataframe tbody tr th {\n",
       "        vertical-align: top;\n",
       "    }\n",
       "\n",
       "    .dataframe thead th {\n",
       "        text-align: right;\n",
       "    }\n",
       "</style>\n",
       "<table border=\"1\" class=\"dataframe\">\n",
       "  <thead>\n",
       "    <tr style=\"text-align: right;\">\n",
       "      <th></th>\n",
       "      <th>node_loc</th>\n",
       "      <th>technology</th>\n",
       "      <th>year_vtg</th>\n",
       "      <th>year_act</th>\n",
       "      <th>mode</th>\n",
       "      <th>emission</th>\n",
       "      <th>value</th>\n",
       "      <th>unit</th>\n",
       "    </tr>\n",
       "  </thead>\n",
       "  <tbody>\n",
       "    <tr>\n",
       "      <th>0</th>\n",
       "      <td>Turkey</td>\n",
       "      <td>coal_ppl</td>\n",
       "      <td>2020</td>\n",
       "      <td>2020</td>\n",
       "      <td>standard</td>\n",
       "      <td>CO2</td>\n",
       "      <td>7.48104</td>\n",
       "      <td>tCO2/kWa</td>\n",
       "    </tr>\n",
       "    <tr>\n",
       "      <th>1</th>\n",
       "      <td>Turkey</td>\n",
       "      <td>coal_ppl</td>\n",
       "      <td>2020</td>\n",
       "      <td>2025</td>\n",
       "      <td>standard</td>\n",
       "      <td>CO2</td>\n",
       "      <td>7.48104</td>\n",
       "      <td>tCO2/kWa</td>\n",
       "    </tr>\n",
       "    <tr>\n",
       "      <th>2</th>\n",
       "      <td>Turkey</td>\n",
       "      <td>coal_ppl</td>\n",
       "      <td>2020</td>\n",
       "      <td>2030</td>\n",
       "      <td>standard</td>\n",
       "      <td>CO2</td>\n",
       "      <td>7.48104</td>\n",
       "      <td>tCO2/kWa</td>\n",
       "    </tr>\n",
       "    <tr>\n",
       "      <th>3</th>\n",
       "      <td>Turkey</td>\n",
       "      <td>coal_ppl</td>\n",
       "      <td>2020</td>\n",
       "      <td>2035</td>\n",
       "      <td>standard</td>\n",
       "      <td>CO2</td>\n",
       "      <td>7.48104</td>\n",
       "      <td>tCO2/kWa</td>\n",
       "    </tr>\n",
       "    <tr>\n",
       "      <th>4</th>\n",
       "      <td>Turkey</td>\n",
       "      <td>coal_ppl</td>\n",
       "      <td>2020</td>\n",
       "      <td>2040</td>\n",
       "      <td>standard</td>\n",
       "      <td>CO2</td>\n",
       "      <td>7.48104</td>\n",
       "      <td>tCO2/kWa</td>\n",
       "    </tr>\n",
       "    <tr>\n",
       "      <th>...</th>\n",
       "      <td>...</td>\n",
       "      <td>...</td>\n",
       "      <td>...</td>\n",
       "      <td>...</td>\n",
       "      <td>...</td>\n",
       "      <td>...</td>\n",
       "      <td>...</td>\n",
       "      <td>...</td>\n",
       "    </tr>\n",
       "    <tr>\n",
       "      <th>79</th>\n",
       "      <td>Turkey</td>\n",
       "      <td>oil_ppl</td>\n",
       "      <td>2040</td>\n",
       "      <td>2045</td>\n",
       "      <td>standard</td>\n",
       "      <td>CO2</td>\n",
       "      <td>4.99320</td>\n",
       "      <td>tCO2/kWa</td>\n",
       "    </tr>\n",
       "    <tr>\n",
       "      <th>80</th>\n",
       "      <td>Turkey</td>\n",
       "      <td>oil_ppl</td>\n",
       "      <td>2040</td>\n",
       "      <td>2050</td>\n",
       "      <td>standard</td>\n",
       "      <td>CO2</td>\n",
       "      <td>4.99320</td>\n",
       "      <td>tCO2/kWa</td>\n",
       "    </tr>\n",
       "    <tr>\n",
       "      <th>81</th>\n",
       "      <td>Turkey</td>\n",
       "      <td>oil_ppl</td>\n",
       "      <td>2045</td>\n",
       "      <td>2045</td>\n",
       "      <td>standard</td>\n",
       "      <td>CO2</td>\n",
       "      <td>4.99320</td>\n",
       "      <td>tCO2/kWa</td>\n",
       "    </tr>\n",
       "    <tr>\n",
       "      <th>82</th>\n",
       "      <td>Turkey</td>\n",
       "      <td>oil_ppl</td>\n",
       "      <td>2045</td>\n",
       "      <td>2050</td>\n",
       "      <td>standard</td>\n",
       "      <td>CO2</td>\n",
       "      <td>4.99320</td>\n",
       "      <td>tCO2/kWa</td>\n",
       "    </tr>\n",
       "    <tr>\n",
       "      <th>83</th>\n",
       "      <td>Turkey</td>\n",
       "      <td>oil_ppl</td>\n",
       "      <td>2050</td>\n",
       "      <td>2050</td>\n",
       "      <td>standard</td>\n",
       "      <td>CO2</td>\n",
       "      <td>4.99320</td>\n",
       "      <td>tCO2/kWa</td>\n",
       "    </tr>\n",
       "  </tbody>\n",
       "</table>\n",
       "<p>84 rows × 8 columns</p>\n",
       "</div>"
      ],
      "text/plain": [
       "   node_loc technology  year_vtg  year_act      mode emission    value  \\\n",
       "0    Turkey   coal_ppl      2020      2020  standard      CO2  7.48104   \n",
       "1    Turkey   coal_ppl      2020      2025  standard      CO2  7.48104   \n",
       "2    Turkey   coal_ppl      2020      2030  standard      CO2  7.48104   \n",
       "3    Turkey   coal_ppl      2020      2035  standard      CO2  7.48104   \n",
       "4    Turkey   coal_ppl      2020      2040  standard      CO2  7.48104   \n",
       "..      ...        ...       ...       ...       ...      ...      ...   \n",
       "79   Turkey    oil_ppl      2040      2045  standard      CO2  4.99320   \n",
       "80   Turkey    oil_ppl      2040      2050  standard      CO2  4.99320   \n",
       "81   Turkey    oil_ppl      2045      2045  standard      CO2  4.99320   \n",
       "82   Turkey    oil_ppl      2045      2050  standard      CO2  4.99320   \n",
       "83   Turkey    oil_ppl      2050      2050  standard      CO2  4.99320   \n",
       "\n",
       "        unit  \n",
       "0   tCO2/kWa  \n",
       "1   tCO2/kWa  \n",
       "2   tCO2/kWa  \n",
       "3   tCO2/kWa  \n",
       "4   tCO2/kWa  \n",
       "..       ...  \n",
       "79  tCO2/kWa  \n",
       "80  tCO2/kWa  \n",
       "81  tCO2/kWa  \n",
       "82  tCO2/kWa  \n",
       "83  tCO2/kWa  \n",
       "\n",
       "[84 rows x 8 columns]"
      ]
     },
     "execution_count": 51,
     "metadata": {},
     "output_type": "execute_result"
    }
   ],
   "source": [
    "scenario.par(\"emission_factor\")"
   ]
  },
  {
   "cell_type": "markdown",
   "metadata": {},
   "source": [
    "## Commit the datastructure and solve the model"
   ]
  },
  {
   "cell_type": "code",
   "execution_count": 52,
   "metadata": {},
   "outputs": [],
   "source": [
    "comment = 'initial commit for Turkey model'\n",
    "scenario.commit(comment)\n",
    "scenario.set_as_default()"
   ]
  },
  {
   "cell_type": "code",
   "execution_count": 53,
   "metadata": {},
   "outputs": [
    {
     "name": "stderr",
     "output_type": "stream",
     "text": [
      "message_ix.models - INFO: Use CPLEX options {'advind': 0, 'lpmethod': 4, 'threads': 4, 'epopt': 1e-06}\n"
     ]
    },
    {
     "name": "stdout",
     "output_type": "stream",
     "text": [
      "--- Warning: The GAMS version [48.5.0] differs from the API version [24.8.3].\n",
      "--- Job MESSAGE_run.gms Start 04/06/25 12:12:00 48.5.0 5f05ac2f LEX-LEG x86 64bit/Linux\n",
      "--- Applying:\n",
      "    /home/ggungor/Downloads/gams48.5_linux_x64_64_sfx/gmsprmun.txt\n",
      "--- GAMS Parameters defined\n",
      "    Input /home/ggungor/miniconda3/envs/message_env/lib/python3.8/site-packages/message_ix/model/MESSAGE_run.gms\n",
      "    ScrDir /home/ggungor/miniconda3/envs/message_env/lib/python3.8/site-packages/message_ix/model/225a/\n",
      "    SysDir /home/ggungor/Downloads/gams48.5_linux_x64_64_sfx/\n",
      "    LogOption 4\n",
      "    --in /home/ggungor/miniconda3/envs/message_env/lib/python3.8/site-packages/message_ix/model/data/MsgData_Turkey_energy_model_baseline.gdx\n",
      "    --out /home/ggungor/miniconda3/envs/message_env/lib/python3.8/site-packages/message_ix/model/output/MsgOutput_Turkey_energy_model_baseline.gdx\n",
      "    --iter /home/ggungor/miniconda3/envs/message_env/lib/python3.8/site-packages/message_ix/model/output/MsgIterationReport_Turkey_energy_model_baseline.gdx\n",
      "Licensee: G?rkem G?ng?r                                  G250104+0003Ac-GEN\n",
      "          ggungor@mezun.hacettepe.edu.tr                          CLA105467\n",
      "          /home/ggungor/Downloads/gams48.5_linux_x64_64_sfx/gamslice.txt\n",
      "          node:15017401 v:2                                                \n",
      "          Community license for demonstration and instructional purposes only\n",
      "Processor information: 1 socket(s), 2 core(s), and 2 thread(s) available\n",
      "GAMS 48.5.0   Copyright (C) 1987-2024 GAMS Development. All rights reserved\n",
      "--- Starting compilation\n",
      "--- MESSAGE_run.gms(65) 2 Mb\n",
      "--- . model_setup.gms(66) 2 Mb\n",
      "--- .. auxiliary_settings.gms(37) 2 Mb\n",
      "--- . model_setup.gms(69) 2 Mb\n",
      "--- .. version.gms(23) 2 Mb\n",
      "--- . model_setup.gms(70) 2 Mb\n",
      "--- .. version_check.gms(7) 2 Mb\n",
      "--- GDXin=/home/ggungor/miniconda3/envs/message_env/lib/python3.8/site-packages/message_ix/model/data/MsgData_Turkey_energy_model_baseline.gdx\n",
      "--- GDX File ($gdxIn) /home/ggungor/miniconda3/envs/message_env/lib/python3.8/site-packages/message_ix/model/data/MsgData_Turkey_energy_model_baseline.gdx\n",
      "--- .. version_check.gms(24) 3 Mb\n",
      "--- . model_setup.gms(73) 3 Mb\n",
      "--- .. sets_maps_def.gms(490) 3 Mb\n",
      "--- . model_setup.gms(74) 3 Mb\n",
      "--- .. parameter_def.gms(878) 3 Mb\n",
      "--- . model_setup.gms(77) 3 Mb\n",
      "--- .. data_load.gms(9) 3 Mb\n",
      "--- GDXin=/home/ggungor/miniconda3/envs/message_env/lib/python3.8/site-packages/message_ix/model/data/MsgData_Turkey_energy_model_baseline.gdx\n",
      "--- GDX File ($gdxIn) /home/ggungor/miniconda3/envs/message_env/lib/python3.8/site-packages/message_ix/model/data/MsgData_Turkey_energy_model_baseline.gdx\n",
      "--- .. data_load.gms(111) 3 Mb\n",
      "--- ... period_parameter_assignment.gms(118) 3 Mb\n",
      "--- .. data_load.gms(252) 3 Mb\n",
      "--- . model_setup.gms(80) 3 Mb\n",
      "--- .. scaling_investment_costs.gms(182) 3 Mb\n",
      "--- . model_setup.gms(86) 3 Mb\n",
      "--- .. model_core.gms(2311) 3 Mb\n",
      "--- . model_setup.gms(86) 3 Mb\n",
      "--- MESSAGE_run.gms(71) 3 Mb\n",
      "--- . model_solve.gms(104) 3 Mb\n",
      "--- .. aux_computation_time.gms(14) 3 Mb\n",
      "--- . model_solve.gms(170) 3 Mb\n",
      "--- MESSAGE_run.gms(78) 3 Mb\n",
      "--- . reporting.gms(26) 3 Mb\n",
      "--- MESSAGE_run.gms(87) 3 Mb\n",
      "--- Starting execution: elapsed 0:00:00.584\n",
      "--- MESSAGE_run.gms(1600) 4 Mb\n",
      "    +++ Importing data from '/home/ggungor/miniconda3/envs/message_env/lib/python3.8/site-packages/message_ix/model/data/MsgData_Turkey_energy_model_baseline.gdx'... +++\n",
      "--- MESSAGE_run.gms(1625) 4 Mb\n",
      "--- GDXin=/home/ggungor/miniconda3/envs/message_env/lib/python3.8/site-packages/message_ix/model/data/MsgData_Turkey_energy_model_baseline.gdx\n",
      "--- GDX File (execute_load) /home/ggungor/miniconda3/envs/message_env/lib/python3.8/site-packages/message_ix/model/data/MsgData_Turkey_energy_model_baseline.gdx\n",
      "--- MESSAGE_run.gms(4481) 4 Mb\n",
      "    +++ Solve the perfect-foresight version of MESSAGEix +++\n",
      "--- Generating LP model MESSAGE_LP\n",
      "--- MESSAGE_run.gms(4499) 5 Mb\n",
      "---   691 rows  566 columns  2,350 non-zeroes\n",
      "--- Range statistics (absolute non-zero finite values)\n",
      "--- RHS       [min, max] : [ 3.687E-02, 4.450E+01] - Zero values observed as well\n",
      "--- Bound     [min, max] : [        NA,        NA] - Zero values observed as well\n",
      "--- Matrix    [min, max] : [ 1.000E-01, 4.017E+03]\n",
      "--- Executing CPLEX (Solvelink=2): elapsed 0:00:00.803\n",
      "\n",
      "IBM ILOG CPLEX   48.5.0 5f05ac2f Dec 20, 2024          LEG x86 64bit/Linux    \n",
      "\n",
      "*** This solver runs with a community license. No commercial use.\n",
      "\n",
      "Reading parameter(s) from \"/home/ggungor/miniconda3/envs/message_env/lib/python3.8/site-packages/message_ix/model/cplex.opt\"\n",
      ">>  advind = 0\n",
      ">>  lpmethod = 4\n",
      ">>  threads = 4\n",
      ">>  epopt = 1e-06\n",
      "Finished reading from \"/home/ggungor/miniconda3/envs/message_env/lib/python3.8/site-packages/message_ix/model/cplex.opt\"\n",
      "\n",
      "--- GMO setup time: 0.00s\n",
      "--- Space for names approximately 0.06 Mb\n",
      "--- Use option 'names no' to turn use of names off\n",
      "--- GMO memory 0.64 Mb (peak 0.65 Mb)\n",
      "--- Dictionary memory 0.00 Mb\n",
      "--- Cplex 22.1.1.0 link memory 0.02 Mb (peak 0.12 Mb)\n",
      "--- Starting Cplex\n",
      "\n",
      "Version identifier: 22.1.1.0 | 2022-11-28 | 9160aff4d\n",
      "CPXPARAM_Advance                                 0\n",
      "CPXPARAM_LPMethod                                4\n",
      "CPXPARAM_Threads                                 4\n",
      "CPXPARAM_Parallel                                1\n",
      "CPXPARAM_MIP_Display                             4\n",
      "CPXPARAM_MIP_Pool_Capacity                       0\n",
      "CPXPARAM_Barrier_Limits_Iteration                100000000\n",
      "CPXPARAM_TimeLimit                               1000000\n",
      "CPXPARAM_MIP_Tolerances_AbsMIPGap                0\n",
      "CPXPARAM_MIP_Tolerances_MIPGap                   0\n",
      "Tried aggregator 1 time.\n",
      "LP Presolve eliminated 245 rows and 133 columns.\n",
      "Aggregator did 107 substitutions.\n",
      "Reduced LP has 338 rows, 371 columns, and 1197 nonzeros.\n",
      "Presolve time = 0.06 sec. (0.85 ticks)\n",
      "Parallel mode: using up to 4 threads for barrier.\n",
      "Number of nonzeros in lower triangle of A*A' = 1087\n",
      "Using Approximate Minimum Degree ordering\n",
      "Total time for automatic ordering = 0.00 sec. (0.17 ticks)\n",
      "Summary statistics for Cholesky factor:\n",
      "  Threads                   = 4\n",
      "  Rows in Factor            = 338\n",
      "  Integer space required    = 737\n",
      "  Total non-zeros in factor = 4033\n",
      "  Total FP ops to factor    = 57527\n",
      " Itn      Primal Obj        Dual Obj  Prim Inf Upper Inf  Dual Inf Inf Ratio\n",
      "   0   2.8941201e+06   2.7469695e+05  7.80e+03  1.14e+02  4.80e+03  1.00e+00\n",
      "   1   2.4653660e+06   2.7530620e+05  6.53e+03  9.53e+01  2.65e+03  1.58e-03\n",
      "   2   1.8248418e+06   2.9195580e+05  4.58e+03  6.69e+01  1.57e+03  1.25e-03\n",
      "   3   1.3441376e+06   3.3892821e+05  3.01e+03  4.40e+01  1.02e+03  1.23e-03\n",
      "   4   8.7277752e+05   3.5581577e+05  1.49e+03  2.18e+01  7.77e+02  1.37e-03\n",
      "   5   6.5546065e+05   3.9605880e+05  7.91e+02  1.16e+01  2.02e+02  3.55e-03\n",
      "   6   5.4550342e+05   4.2011984e+05  4.02e+02  5.87e+00  6.75e+01  8.82e-03\n",
      "   7   4.6385397e+05   4.2938012e+05  1.01e+02  1.47e+00  2.92e+01  1.96e-02\n",
      "   8   4.4400367e+05   4.3359746e+05  2.67e+01  3.89e-01  1.28e+01  3.95e-02\n",
      "   9   4.3892807e+05   4.3683259e+05  5.19e+00  7.58e-02  2.71e+00  1.91e-01\n",
      "  10   4.3769045e+05   4.3751407e+05  3.31e-01  4.83e-03  3.22e-01  1.69e+00\n",
      "  11   4.3760706e+05   4.3760561e+05  5.33e-03  7.78e-05  2.98e-04  2.15e+03\n",
      "  12   4.3760570e+05   4.3760570e+05  6.63e-07  9.69e-09  3.61e-08  3.48e+06\n",
      "  13   4.3760570e+05   4.3760570e+05  7.79e-11  1.12e-12  5.30e-11  2.91e+10\n",
      "Barrier time = 0.12 sec. (2.24 ticks)\n",
      "Parallel mode: deterministic, using up to 4 threads for concurrent optimization:\n",
      " * Starting dual Simplex on 1 thread...\n",
      " * Starting primal Simplex on 1 thread...\n",
      "\n",
      "Dual crossover.\n",
      "  Dual:  Fixing 179 variables.\n",
      "      178 DMoves:  Infeasibility  0.00000000e+00  Objective  4.37605696e+05\n",
      "       70 DMoves:  Infeasibility  0.00000000e+00  Objective  4.37605696e+05\n",
      "        0 DMoves:  Infeasibility  0.00000000e+00  Objective  4.37605696e+05\n",
      "  Dual:  Pushed 31, exchanged 148.\n",
      "  Primal:  Fixed no variables.\n",
      "\n",
      "Dual simplex solved model.\n",
      "\n",
      "Total crossover time = 0.07 sec. (0.90 ticks)\n",
      "\n",
      "Total time on 4 threads = 0.25 sec. (4.01 ticks)\n",
      "\n",
      "--- LP status (1): optimal.\n",
      "--- Cplex Time: 0.32sec (det. 4.01 ticks)\n",
      "\n",
      "\n",
      "Optimal solution found\n",
      "Objective:       437605.696136\n",
      "\n",
      "--- Reading solution for model MESSAGE_LP\n",
      "--- Executing after solve: elapsed 0:00:02.889\n",
      "--- MESSAGE_run.gms(4692) 5 Mb\n",
      "--- GDX File (execute_unload) /home/ggungor/miniconda3/envs/message_env/lib/python3.8/site-packages/message_ix/model/output/MsgOutput_Turkey_energy_model_baseline.gdx\n",
      "--- MESSAGE_run.gms(4694) 5 Mb\n",
      "    +++ End of MESSAGEix (stand-alone) run - have a nice day! +++\n",
      "*** Status: Normal completion\n",
      "--- Job MESSAGE_run.gms Stop 04/06/25 12:12:03 elapsed 0:00:02.943\n",
      "--- Warning: The GAMS version [48.5.0] differs from the API version [24.8.3].\n",
      "--- Warning: The GAMS version [48.5.0] differs from the API version [24.8.3].\n"
     ]
    },
    {
     "name": "stderr",
     "output_type": "stream",
     "text": [
      "2025-04-06 12:12:03,703 ERROR at.ac.iiasa.ixmp.objects.Scenario:1691 - variable 'I' not found in gdx!\n",
      "2025-04-06 12:12:03,704 ERROR at.ac.iiasa.ixmp.objects.Scenario:1691 - variable 'C' not found in gdx!\n"
     ]
    }
   ],
   "source": [
    "scenario.solve()"
   ]
  },
  {
   "cell_type": "code",
   "execution_count": 54,
   "metadata": {
    "jupyter": {
     "name": "solve-objective-value"
    }
   },
   "outputs": [
    {
     "data": {
      "text/plain": [
       "437605.6875"
      ]
     },
     "execution_count": 54,
     "metadata": {},
     "output_type": "execute_result"
    }
   ],
   "source": [
    "scenario.var('OBJ')['lvl']"
   ]
  },
  {
   "cell_type": "markdown",
   "metadata": {},
   "source": [
    "# Plotting Results"
   ]
  },
  {
   "cell_type": "code",
   "execution_count": 55,
   "metadata": {},
   "outputs": [
    {
     "name": "stderr",
     "output_type": "stream",
     "text": [
      "/tmp/ipykernel_3868/1999348187.py:1: DeprecationWarning: Importing from 'message_ix.reporting' is deprecated and will fail in a future version. Use 'message_ix.report'.\n",
      "  from message_ix.reporting import Reporter\n",
      "genno.config - WARNING: Cannot redefine 'y' (<class 'pint.delegates.txt_defparser.plain.UnitDefinition'>)\n",
      "genno.config - INFO: Replace unit '-' with ''\n"
     ]
    }
   ],
   "source": [
    "from message_ix.reporting import Reporter\n",
    "from message_ix.util.tutorial import prepare_plots\n",
    "\n",
    "rep = Reporter.from_scenario(scenario)\n",
    "prepare_plots(rep)"
   ]
  },
  {
   "cell_type": "code",
   "execution_count": 56,
   "metadata": {},
   "outputs": [
    {
     "data": {
      "text/plain": [
       "<Axes: title={'center': 'Turkey Energy System New Capacity'}, xlabel='Year', ylabel='GWa'>"
      ]
     },
     "execution_count": 56,
     "metadata": {},
     "output_type": "execute_result"
    },
    {
     "data": {
      "image/png": "[encoded data removed]",
      "text/plain": [
       "<Figure size 640x480 with 1 Axes>"
      ]
     },
     "metadata": {},
     "output_type": "display_data"
    }
   ],
   "source": [
    "rep.set_filters(t=plants)\n",
    "rep.get(\"plot new capacity\")"
   ]
  },
  {
   "cell_type": "code",
   "execution_count": 57,
   "metadata": {
    "scrolled": true
   },
   "outputs": [
    {
     "data": {
      "text/plain": [
       "<Axes: title={'center': 'Turkey Energy System New Capacity'}, xlabel='Year', ylabel='GWa'>"
      ]
     },
     "execution_count": 57,
     "metadata": {},
     "output_type": "execute_result"
    },
    {
     "data": {
      "image/png": "[encoded data removed]",
      "text/plain": [
       "<Figure size 640x480 with 1 Axes>"
      ]
     },
     "metadata": {},
     "output_type": "display_data"
    }
   ],
   "source": [
    "rep.set_filters(t=light_and_appliance)\n",
    "rep.get(\"plot new capacity\")"
   ]
  },
  {
   "cell_type": "code",
   "execution_count": 58,
   "metadata": {},
   "outputs": [
    {
     "data": {
      "text/plain": [
       "<Axes: title={'center': 'Turkey Energy System Capacity'}, xlabel='Year', ylabel='GW'>"
      ]
     },
     "execution_count": 58,
     "metadata": {},
     "output_type": "execute_result"
    },
    {
     "data": {
      "image/png": "[encoded data removed]",
      "text/plain": [
       "<Figure size 640x480 with 1 Axes>"
      ]
     },
     "metadata": {},
     "output_type": "display_data"
    }
   ],
   "source": [
    "rep.set_filters(t=plants)\n",
    "rep.get(\"plot capacity\")"
   ]
  },
  {
   "cell_type": "code",
   "execution_count": 59,
   "metadata": {},
   "outputs": [
    {
     "data": {
      "text/plain": [
       "<Axes: title={'center': 'Turkey Energy System Capacity'}, xlabel='Year', ylabel='GW'>"
      ]
     },
     "execution_count": 59,
     "metadata": {},
     "output_type": "execute_result"
    },
    {
     "data": {
      "image/png": "[encoded data removed]",
      "text/plain": [
       "<Figure size 640x480 with 1 Axes>"
      ]
     },
     "metadata": {},
     "output_type": "display_data"
    }
   ],
   "source": [
    "rep.set_filters(t=light_and_appliance)\n",
    "rep.get(\"plot capacity\")"
   ]
  },
  {
   "cell_type": "code",
   "execution_count": 60,
   "metadata": {},
   "outputs": [
    {
     "name": "stderr",
     "output_type": "stream",
     "text": [
      "genno.util - INFO: Add unit definition: GWa = [GWa]\n"
     ]
    },
    {
     "data": {
      "text/plain": [
       "<Axes: title={'center': 'Turkey Energy System Demand'}, xlabel='Year', ylabel='GWa'>"
      ]
     },
     "execution_count": 60,
     "metadata": {},
     "output_type": "execute_result"
    },
    {
     "data": {
      "image/png": "[encoded data removed]",
      "text/plain": [
       "<Figure size 640x480 with 1 Axes>"
      ]
     },
     "metadata": {},
     "output_type": "display_data"
    }
   ],
   "source": [
    "rep.get(\"plot demand\")"
   ]
  },
  {
   "cell_type": "code",
   "execution_count": 61,
   "metadata": {},
   "outputs": [
    {
     "data": {
      "text/plain": [
       "<Axes: title={'center': 'Turkey Energy System Activity'}, xlabel='Year', ylabel='GWa'>"
      ]
     },
     "execution_count": 61,
     "metadata": {},
     "output_type": "execute_result"
    },
    {
     "data": {
      "image/png": "[encoded data removed]",
      "text/plain": [
       "<Figure size 640x480 with 1 Axes>"
      ]
     },
     "metadata": {},
     "output_type": "display_data"
    }
   ],
   "source": [
    "rep.set_filters(t=plants)\n",
    "rep.get(\"plot activity\")"
   ]
  },
  {
   "cell_type": "code",
   "execution_count": 62,
   "metadata": {},
   "outputs": [
    {
     "data": {
      "text/plain": [
       "<Axes: title={'center': 'Turkey Energy System Activity'}, xlabel='Year', ylabel='GWa'>"
      ]
     },
     "execution_count": 62,
     "metadata": {},
     "output_type": "execute_result"
    },
    {
     "data": {
      "image/png": "[encoded data removed]",
      "text/plain": [
       "<Figure size 640x480 with 1 Axes>"
      ]
     },
     "metadata": {},
     "output_type": "display_data"
    }
   ],
   "source": [
    "rep.set_filters(t=light_and_appliance)\n",
    "rep.get(\"plot activity\")"
   ]
  },
  {
   "cell_type": "code",
   "execution_count": 63,
   "metadata": {},
   "outputs": [
    {
     "data": {
      "text/plain": [
       "<Axes: title={'center': 'Turkey Energy System Prices'}, xlabel='Year', ylabel='¢/kW·h'>"
      ]
     },
     "execution_count": 63,
     "metadata": {},
     "output_type": "execute_result"
    },
    {
     "data": {
      "image/png": "[encoded data removed]",
      "text/plain": [
       "<Figure size 640x480 with 1 Axes>"
      ]
     },
     "metadata": {},
     "output_type": "display_data"
    }
   ],
   "source": [
    "rep.set_filters(c=[\"light_and_appliance\", \"hvac\"])\n",
    "rep.get(\"plot prices\")"
   ]
  },
  {
   "cell_type": "code",
   "execution_count": 108,
   "metadata": {},
   "outputs": [
    {
     "data": {
      "text/plain": [
       "\u001b[0;31mInit signature:\u001b[0m\n",
       "\u001b[0mmessage_ix\u001b[0m\u001b[0;34m.\u001b[0m\u001b[0mreport\u001b[0m\u001b[0;34m.\u001b[0m\u001b[0mKey\u001b[0m\u001b[0;34m(\u001b[0m\u001b[0;34m\u001b[0m\n",
       "\u001b[0;34m\u001b[0m    \u001b[0mname_or_value\u001b[0m\u001b[0;34m:\u001b[0m \u001b[0mUnion\u001b[0m\u001b[0;34m[\u001b[0m\u001b[0mstr\u001b[0m\u001b[0;34m,\u001b[0m \u001b[0mForwardRef\u001b[0m\u001b[0;34m(\u001b[0m\u001b[0;34m'Key'\u001b[0m\u001b[0;34m)\u001b[0m\u001b[0;34m,\u001b[0m \u001b[0mForwardRef\u001b[0m\u001b[0;34m(\u001b[0m\u001b[0;34m'AnyQuantity'\u001b[0m\u001b[0;34m)\u001b[0m\u001b[0;34m]\u001b[0m\u001b[0;34m,\u001b[0m\u001b[0;34m\u001b[0m\n",
       "\u001b[0;34m\u001b[0m    \u001b[0mdims\u001b[0m\u001b[0;34m:\u001b[0m \u001b[0mIterable\u001b[0m\u001b[0;34m[\u001b[0m\u001b[0mstr\u001b[0m\u001b[0;34m]\u001b[0m \u001b[0;34m=\u001b[0m \u001b[0;34m[\u001b[0m\u001b[0;34m]\u001b[0m\u001b[0;34m,\u001b[0m\u001b[0;34m\u001b[0m\n",
       "\u001b[0;34m\u001b[0m    \u001b[0mtag\u001b[0m\u001b[0;34m:\u001b[0m \u001b[0mUnion\u001b[0m\u001b[0;34m[\u001b[0m\u001b[0mstr\u001b[0m\u001b[0;34m,\u001b[0m \u001b[0mNoneType\u001b[0m\u001b[0;34m]\u001b[0m \u001b[0;34m=\u001b[0m \u001b[0;32mNone\u001b[0m\u001b[0;34m,\u001b[0m\u001b[0;34m\u001b[0m\n",
       "\u001b[0;34m\u001b[0m    \u001b[0m_fast\u001b[0m\u001b[0;34m:\u001b[0m \u001b[0mbool\u001b[0m \u001b[0;34m=\u001b[0m \u001b[0;32mFalse\u001b[0m\u001b[0;34m,\u001b[0m\u001b[0;34m\u001b[0m\n",
       "\u001b[0;34m\u001b[0m\u001b[0;34m)\u001b[0m\u001b[0;34m\u001b[0m\u001b[0;34m\u001b[0m\u001b[0m\n",
       "\u001b[0;31mDocstring:\u001b[0m      A hashable key for a quantity that includes its dimensionality.\n",
       "\u001b[0;31mFile:\u001b[0m           ~/miniconda3/envs/message_env/lib/python3.8/site-packages/genno/core/key.py\n",
       "\u001b[0;31mType:\u001b[0m           type\n",
       "\u001b[0;31mSubclasses:\u001b[0m     "
      ]
     },
     "metadata": {},
     "output_type": "display_data"
    }
   ],
   "source": [
    "from message_ix.report import Key\n",
    "message_ix.report.Key?"
   ]
  },
  {
   "cell_type": "code",
   "execution_count": 109,
   "metadata": {},
   "outputs": [
    {
     "data": {
      "text/plain": [
       "(<a:i>, <a:j-k>)"
      ]
     },
     "execution_count": 109,
     "metadata": {},
     "output_type": "execute_result"
    }
   ],
   "source": [
    "k1 = Key(\"a\", [\"i\"])\n",
    "k2 = Key(\"a\", [\"j\", \"k\"])\n",
    "\n",
    "(k1, k2)"
   ]
  },
  {
   "cell_type": "code",
   "execution_count": 104,
   "metadata": {},
   "outputs": [
    {
     "ename": "TypeError",
     "evalue": "'list' object is not callable",
     "output_type": "error",
     "traceback": [
      "\u001b[0;31m---------------------------------------------------------------------------\u001b[0m",
      "\u001b[0;31mTypeError\u001b[0m                                 Traceback (most recent call last)",
      "Cell \u001b[0;32mIn[104], line 1\u001b[0m\n\u001b[0;32m----> 1\u001b[0m \u001b[43mmessage_ix\u001b[49m\u001b[38;5;241;43m.\u001b[39;49m\u001b[43mreport\u001b[49m\u001b[38;5;241;43m.\u001b[39;49m\u001b[43mPYAM_CONVERT\u001b[49m\u001b[43m(\u001b[49m\u001b[38;5;124;43m\"\u001b[39;49m\u001b[38;5;124;43mfom\u001b[39;49m\u001b[38;5;124;43m\"\u001b[39;49m\u001b[43m)\u001b[49m\n",
      "\u001b[0;31mTypeError\u001b[0m: 'list' object is not callable"
     ]
    }
   ],
   "source": [
    "message_ix.report.PYAM_CONVERT(\"fom\")"
   ]
  },
  {
   "cell_type": "code",
   "execution_count": 74,
   "metadata": {},
   "outputs": [
    {
     "data": {
      "text/plain": [
       "[(('map_addon', 'map_as_qty', 'cat_addon', 't'), {'strict': True}),\n",
       " (('map_emission', 'map_as_qty', 'cat_emission', 'e'), {'strict': True}),\n",
       " (('map_tec', 'map_as_qty', 'cat_tec', 't'), {'strict': True}),\n",
       " (('map_year', 'map_as_qty', 'cat_year', 'y'), {'strict': True}),\n",
       " (('out', 'mul', 'output', 'ACT'), {'strict': True}),\n",
       " (('in', 'mul', 'input', 'ACT'), {'strict': True}),\n",
       " (('rel', 'mul', 'relation_activity', 'ACT'), {'strict': True}),\n",
       " (('emi', 'mul', 'emission_factor', 'ACT'), {'strict': True}),\n",
       " (('inv', 'mul', 'inv_cost', 'CAP_NEW'), {'strict': True}),\n",
       " (('fom', 'mul', 'fix_cost', 'CAP'), {'strict': True}),\n",
       " (('vom', 'mul', 'var_cost', 'ACT'), {'strict': True}),\n",
       " (('land_out', 'mul', 'land_output', 'LAND'), {'strict': True}),\n",
       " (('land_use_qty', 'mul', 'land_use', 'LAND'), {'strict': True}),\n",
       " (('land_emi', 'mul', 'land_emission', 'LAND'), {'strict': True}),\n",
       " (('y::model', 'model_periods', 'y', 'cat_year'), {'strict': True}),\n",
       " (('y0', operator.itemgetter(0), 'y::model'), {'strict': True}),\n",
       " (('tom', 'add', 'fom:nl-t-yv-ya', 'vom:nl-t-yv-ya'), {'strict': True}),\n",
       " (('addon conversion:nl-t-yv-ya-m-h-ta',\n",
       "   <function genno.operator.broadcast_map(quantity: 'AnyQuantity', map: 'AnyQuantity', rename: Mapping = {}, strict: bool = False) -> 'AnyQuantity'>,\n",
       "   'addon_conversion:n-t-yv-ya-m-h-type_addon',\n",
       "   'map_addon'),\n",
       "  {'rename': {'n': 'nl'}, 'strict': True}),\n",
       " (('addon ACT', 'mul', 'addon conversion', 'ACT'), {'strict': True}),\n",
       " (('addon in', 'mul', 'input', 'addon ACT'), {'strict': True}),\n",
       " (('addon out', 'mul', 'output', 'addon ACT'), {'strict': True}),\n",
       " (('addon up:nl-t-ya-m-h-ta',\n",
       "   <function genno.operator.broadcast_map(quantity: 'AnyQuantity', map: 'AnyQuantity', rename: Mapping = {}, strict: bool = False) -> 'AnyQuantity'>,\n",
       "   'addon_up:n-t-ya-m-h-type_addon',\n",
       "   'map_addon'),\n",
       "  {'rename': {'n': 'nl'}, 'strict': True}),\n",
       " (('addon potential', 'mul', 'addon up', 'addon ACT'), {'strict': True}),\n",
       " (('price emission:n-e-t-y',\n",
       "   <function genno.operator.broadcast_map(quantity: 'AnyQuantity', map: 'AnyQuantity', rename: Mapping = {}, strict: bool = False) -> 'AnyQuantity'>,\n",
       "   (<function genno.operator.broadcast_map(quantity: 'AnyQuantity', map: 'AnyQuantity', rename: Mapping = {}, strict: bool = False) -> 'AnyQuantity'>,\n",
       "    'PRICE_EMISSION:n-type_emission-type_tec-y',\n",
       "    'map_emission'),\n",
       "   'map_tec'),\n",
       "  {'strict': True}),\n",
       " (('out:nl-t-ya-m-nd-c-l', 'as_pyam', 'pyam'),\n",
       "  {'rename': {'ya': 'year', 'n': 'region', 'nl': 'region'},\n",
       "   'collapse': functools.partial(<function collapse_message_cols at 0x7f7fdd516670>, kind='ene', var='out')}),\n",
       " (('in:nl-t-ya-m-no-c-l', 'as_pyam', 'pyam'),\n",
       "  {'rename': {'ya': 'year', 'n': 'region', 'nl': 'region'},\n",
       "   'collapse': functools.partial(<function collapse_message_cols at 0x7f7fdd516670>, kind='ene', var='in')}),\n",
       " (('CAP:nl-t-ya', 'as_pyam', 'pyam'),\n",
       "  {'rename': {'ya': 'year', 'n': 'region', 'nl': 'region'},\n",
       "   'collapse': functools.partial(<function collapse_message_cols at 0x7f7fdd516670>, var='capacity')}),\n",
       " (('CAP_NEW:nl-t-yv', 'as_pyam', 'pyam'),\n",
       "  {'rename': {'yv': 'year', 'n': 'region', 'nl': 'region'},\n",
       "   'collapse': functools.partial(<function collapse_message_cols at 0x7f7fdd516670>, var='new capacity')}),\n",
       " (('inv:nl-t-yv', 'as_pyam', 'pyam'),\n",
       "  {'rename': {'yv': 'year', 'n': 'region', 'nl': 'region'},\n",
       "   'collapse': functools.partial(<function collapse_message_cols at 0x7f7fdd516670>, var='inv cost')}),\n",
       " (('fom:nl-t-ya', 'as_pyam', 'pyam'),\n",
       "  {'rename': {'ya': 'year', 'n': 'region', 'nl': 'region'},\n",
       "   'collapse': functools.partial(<function collapse_message_cols at 0x7f7fdd516670>, var='fom cost')}),\n",
       " (('vom:nl-t-ya', 'as_pyam', 'pyam'),\n",
       "  {'rename': {'ya': 'year', 'n': 'region', 'nl': 'region'},\n",
       "   'collapse': functools.partial(<function collapse_message_cols at 0x7f7fdd516670>, var='vom cost')}),\n",
       " (('tom:nl-t-ya', 'as_pyam', 'pyam'),\n",
       "  {'rename': {'ya': 'year', 'n': 'region', 'nl': 'region'},\n",
       "   'collapse': functools.partial(<function collapse_message_cols at 0x7f7fdd516670>, var='total om cost')}),\n",
       " (('emi:nl-t-ya-m-e', 'as_pyam', 'pyam'),\n",
       "  {'rename': {'ya': 'year', 'n': 'region', 'nl': 'region'},\n",
       "   'collapse': functools.partial(<function collapse_message_cols at 0x7f7fdd516670>, kind='emi', var='emis')}),\n",
       " (('message::system',\n",
       "   'concat',\n",
       "   'out::pyam',\n",
       "   'in::pyam',\n",
       "   'CAP::pyam',\n",
       "   'CAP_NEW::pyam'),\n",
       "  {'strict': True}),\n",
       " (('message::costs',\n",
       "   'concat',\n",
       "   'inv::pyam',\n",
       "   'fom::pyam',\n",
       "   'vom::pyam',\n",
       "   'tom::pyam'),\n",
       "  {'strict': True}),\n",
       " (('message::emissions', 'concat', 'emi::pyam'), {'strict': True}),\n",
       " (('message::default',\n",
       "   'concat',\n",
       "   'message::system',\n",
       "   'message::costs',\n",
       "   'message::emissions'),\n",
       "  {'strict': True})]"
      ]
     },
     "execution_count": 74,
     "metadata": {},
     "output_type": "execute_result"
    }
   ],
   "source": [
    "message_ix.report.get_tasks()"
   ]
  },
  {
   "cell_type": "code",
   "execution_count": 64,
   "metadata": {},
   "outputs": [],
   "source": [
    "mp.close_db()"
   ]
  },
  {
   "cell_type": "code",
   "execution_count": 9,
   "metadata": {},
   "outputs": [],
   "source": [
    "scenario.check_out()"
   ]
  },
  {
   "cell_type": "code",
   "execution_count": 8,
   "metadata": {},
   "outputs": [],
   "source": [
    "scenario.remove_solution()"
   ]
  },
  {
   "cell_type": "code",
   "execution_count": null,
   "metadata": {},
   "outputs": [],
   "source": []
  }
 ],
 "metadata": {
  "anaconda-cloud": {},
  "kernelspec": {
   "display_name": "Python 3 (ipykernel)",
   "language": "python",
   "name": "python3"
  },
  "language_info": {
   "codemirror_mode": {
    "name": "ipython",
    "version": 3
   },
   "file_extension": ".py",
   "mimetype": "text/x-python",
   "name": "python",
   "nbconvert_exporter": "python",
   "pygments_lexer": "ipython3",
   "version": "3.8.20"
  },
  "vscode": {
   "interpreter": {
    "hash": "29605b568787f5559ca1ba05da75d155c3dcfa15a1a63b1885b057c5465ade2e"
   }
  }
 },
 "nbformat": 4,
 "nbformat_minor": 4
}
